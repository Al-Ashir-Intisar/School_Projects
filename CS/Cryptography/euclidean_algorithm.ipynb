{
  "cells": [
    {
      "cell_type": "code",
      "execution_count": 2,
      "metadata": {
        "colab": {
          "base_uri": "https://localhost:8080/"
        },
        "id": "61_mua-H3BL3",
        "outputId": "8f5bacec-2eff-4499-8284-dcf402084e76"
      },
      "outputs": [
        {
          "name": "stdout",
          "output_type": "stream",
          "text": [
            "Shift 0: F\n",
            "Shift 1: E\n",
            "Shift 2: D\n",
            "Shift 3: C\n",
            "Shift 4: B\n",
            "Shift 5: A\n",
            "Shift 6: Z\n",
            "Shift 7: Y\n",
            "Shift 8: X\n",
            "Shift 9: W\n",
            "Shift 10: V\n",
            "Shift 11: U\n",
            "Shift 12: T\n",
            "Shift 13: S\n",
            "Shift 14: R\n",
            "Shift 15: Q\n",
            "Shift 16: P\n",
            "Shift 17: O\n",
            "Shift 18: N\n",
            "Shift 19: M\n",
            "Shift 20: L\n",
            "Shift 21: K\n",
            "Shift 22: J\n",
            "Shift 23: I\n",
            "Shift 24: H\n",
            "Shift 25: G\n"
          ]
        }
      ],
      "source": [
        "# code for all possible caeser shift\n",
        "\n",
        "def caesar_cipher_decrypt_all(text):\n",
        "    alphabet = 'ABCDEFGHIJKLMNOPQRSTUVWXYZ'\n",
        "    text = text.upper()\n",
        "\n",
        "    for shift in range(26):\n",
        "        decrypted_text = ''\n",
        "        for char in text:\n",
        "            if char in alphabet:\n",
        "                new_index = (alphabet.index(char) - shift) % 26\n",
        "                decrypted_text += alphabet[new_index]\n",
        "            else:\n",
        "                decrypted_text += char  # Keep non-alphabet characters unchanged\n",
        "        print(f\"Shift {shift}: {decrypted_text}\")\n",
        "\n",
        "# Example usage\n",
        "cipher_text = input(\"Enter the Caesar cipher text: \")\n",
        "caesar_cipher_decrypt_all(cipher_text)\n"
      ]
    },
    {
      "cell_type": "code",
      "execution_count": 3,
      "metadata": {
        "colab": {
          "base_uri": "https://localhost:8080/"
        },
        "id": "FZee9u1g9Y8i",
        "outputId": "98000026-075d-4c21-88c2-18110b856f57"
      },
      "outputs": [
        {
          "name": "stdout",
          "output_type": "stream",
          "text": [
            "Finding GCD of 7 and 3 using the Euclidean Algorithm:\n",
            "Step 1: 7 = 2 × 3 + 1\n",
            "Step 2: 3 = 3 × 1 + 0\n",
            "GCD is 1\n"
          ]
        },
        {
          "data": {
            "text/plain": [
              "1"
            ]
          },
          "execution_count": 3,
          "metadata": {},
          "output_type": "execute_result"
        }
      ],
      "source": [
        "# python implementation of euclidean algorithm for gcd(a,b)\n",
        "\n",
        "def euclidean_gcd(a, b):\n",
        "    # Ensure a >= b\n",
        "    if a < b:\n",
        "        a, b = b, a\n",
        "\n",
        "    print(f\"Finding GCD of {a} and {b} using the Euclidean Algorithm:\")\n",
        "    step = 1\n",
        "    while b != 0:\n",
        "        quotient = a // b\n",
        "        remainder = a % b\n",
        "        print(f\"Step {step}: {a} = {quotient} × {b} + {remainder}\")\n",
        "        a, b = b, remainder\n",
        "        step += 1\n",
        "\n",
        "    print(f\"GCD is {a}\")\n",
        "    return a\n",
        "\n",
        "# Example usage\n",
        "a = int(input(\"Enter first number: \"))\n",
        "b = int(input(\"Enter second number: \"))\n",
        "euclidean_gcd(a, b)\n"
      ]
    },
    {
      "cell_type": "code",
      "execution_count": 4,
      "metadata": {
        "colab": {
          "base_uri": "https://localhost:8080/"
        },
        "id": "FQhvLHD6_U7D",
        "outputId": "588791f4-d147-412d-b411-bc127fbc8f64"
      },
      "outputs": [
        {
          "name": "stdout",
          "output_type": "stream",
          "text": [
            "Finding u and v such that 7u + 3v = gcd(7, 3)\n",
            "\n",
            "Steps in reverse order:\n",
            "\n",
            "Step 1: 0 = 3 - 3 × 1\n",
            "Step 2: 1 = 7 - 2 × 3\n",
            "\n",
            "Final result:\n",
            "GCD(7, 3) = 1\n",
            "Coefficients: u = 1, v = -2\n"
          ]
        },
        {
          "data": {
            "text/plain": [
              "(1, 1, -2)"
            ]
          },
          "execution_count": 4,
          "metadata": {},
          "output_type": "execute_result"
        }
      ],
      "source": [
        "def extended_euclidean_reverse(a, b):\n",
        "    # Ensure a >= b\n",
        "    if a < b:\n",
        "        a, b = b, a  # Swap to ensure a is the larger number\n",
        "\n",
        "    print(f\"Finding u and v such that {a}u + {b}v = gcd({a}, {b})\\n\")\n",
        "\n",
        "    # Step-by-step tracking\n",
        "    steps = []\n",
        "    old_r, r = a, b  # Remainders\n",
        "    old_u, u = 1, 0  # Coefficients for a\n",
        "    old_v, v = 0, 1  # Coefficients for b\n",
        "\n",
        "    while r != 0:\n",
        "        quotient = old_r // r\n",
        "        remainder = old_r - quotient * r\n",
        "        steps.append((old_r, quotient, r, remainder))  # Store step\n",
        "\n",
        "        # Update values\n",
        "        old_r, r = r, remainder\n",
        "        old_u, u = u, old_u - quotient * u\n",
        "        old_v, v = v, old_v - quotient * v\n",
        "\n",
        "    # Printing results in reverse order\n",
        "    print(\"Steps in reverse order:\\n\")\n",
        "    for step_num, (r1, q, r2, rem) in enumerate(reversed(steps), start=1):\n",
        "        print(f\"Step {step_num}: {rem} = {r1} - {q} × {r2}\")\n",
        "\n",
        "    print(\"\\nFinal result:\")\n",
        "    print(f\"GCD({a}, {b}) = {old_r}\")\n",
        "    print(f\"Coefficients: u = {old_u}, v = {old_v}\")\n",
        "\n",
        "    return old_r, old_u, old_v  # GCD, u, v\n",
        "\n",
        "# Example usage\n",
        "a = int(input(\"Enter first number: \"))\n",
        "b = int(input(\"Enter second number: \"))\n",
        "extended_euclidean_reverse(a, b)\n"
      ]
    },
    {
      "cell_type": "code",
      "execution_count": 6,
      "metadata": {},
      "outputs": [
        {
          "name": "stdout",
          "output_type": "stream",
          "text": [
            "Finding GCD of 587 and 345 using the Euclidean Algorithm:\n",
            "Step 1: 587 = 1 × 345 + 242\n",
            "Step 2: 345 = 1 × 242 + 103\n",
            "Step 3: 242 = 2 × 103 + 36\n",
            "Step 4: 103 = 2 × 36 + 31\n",
            "Step 5: 36 = 1 × 31 + 5\n",
            "Step 6: 31 = 6 × 5 + 1\n",
            "Step 7: 5 = 5 × 1 + 0\n",
            "GCD is 1\n"
          ]
        },
        {
          "data": {
            "text/plain": [
              "1"
            ]
          },
          "execution_count": 6,
          "metadata": {},
          "output_type": "execute_result"
        }
      ],
      "source": [
        "euclidean_gcd(345,587)"
      ]
    },
    {
      "cell_type": "code",
      "execution_count": 5,
      "metadata": {},
      "outputs": [
        {
          "name": "stdout",
          "output_type": "stream",
          "text": [
            "Finding u and v such that 587u + 345v = gcd(587, 345)\n",
            "\n",
            "Steps in reverse order:\n",
            "\n",
            "Step 1: 0 = 5 - 5 × 1\n",
            "Step 2: 1 = 31 - 6 × 5\n",
            "Step 3: 5 = 36 - 1 × 31\n",
            "Step 4: 31 = 103 - 2 × 36\n",
            "Step 5: 36 = 242 - 2 × 103\n",
            "Step 6: 103 = 345 - 1 × 242\n",
            "Step 7: 242 = 587 - 1 × 345\n",
            "\n",
            "Final result:\n",
            "GCD(587, 345) = 1\n",
            "Coefficients: u = -67, v = 114\n"
          ]
        },
        {
          "data": {
            "text/plain": [
              "(1, -67, 114)"
            ]
          },
          "execution_count": 5,
          "metadata": {},
          "output_type": "execute_result"
        }
      ],
      "source": [
        "# HW2 problem finding inverse of a \n",
        "extended_euclidean_reverse(345,587)"
      ]
    },
    {
      "cell_type": "code",
      "execution_count": 9,
      "metadata": {},
      "outputs": [
        {
          "data": {
            "text/plain": [
              "114"
            ]
          },
          "execution_count": 9,
          "metadata": {},
          "output_type": "execute_result"
        }
      ],
      "source": [
        "from sympy import mod_inverse\n",
        "mod_inverse(345,587)"
      ]
    },
    {
      "cell_type": "code",
      "execution_count": 3,
      "metadata": {
        "colab": {
          "base_uri": "https://localhost:8080/"
        },
        "id": "C_hLHSso1PEA",
        "outputId": "0516d8de-df89-4879-a8d6-d3b873163b5e"
      },
      "outputs": [
        {
          "data": {
            "text/plain": [
              "161"
            ]
          },
          "execution_count": 3,
          "metadata": {},
          "output_type": "execute_result"
        }
      ],
      "source": [
        "import math as mth\n",
        "mth.gcd(16261, 85652)"
      ]
    },
    {
      "cell_type": "code",
      "execution_count": 12,
      "metadata": {
        "colab": {
          "base_uri": "https://localhost:8080/"
        },
        "id": "hhKuXAI51r3p",
        "outputId": "e780b87c-3637-4526-e564-dd58f8b57bae"
      },
      "outputs": [
        {
          "data": {
            "text/plain": [
              "161"
            ]
          },
          "execution_count": 12,
          "metadata": {},
          "output_type": "execute_result"
        }
      ],
      "source": [
        "(15*85652) + (-79*16261)"
      ]
    },
    {
      "cell_type": "code",
      "execution_count": 11,
      "metadata": {},
      "outputs": [
        {
          "name": "stdout",
          "output_type": "stream",
          "text": [
            "12\n"
          ]
        }
      ],
      "source": [
        "def modular_exponentiation(N, g, A):\n",
        "    a = g\n",
        "    b = 1\n",
        "\n",
        "    # Loop while A > 0\n",
        "    while A > 0:\n",
        "        # Step 3: If A is odd, update b\n",
        "        if A % 2 == 1:\n",
        "            b = (b * a) % N\n",
        "        \n",
        "        # Step 4: Square a and halve A\n",
        "        a = (a * a) % N\n",
        "        A //= 2  # Equivalent to Floor(A/2)\n",
        "\n",
        "    # Step 6: Return the result\n",
        "    return b\n",
        "\n",
        "# Example Usage\n",
        "print(modular_exponentiation(17, 3, 13))  # Computes 3^13 mod 17\n"
      ]
    },
    {
      "cell_type": "code",
      "execution_count": 13,
      "metadata": {},
      "outputs": [
        {
          "data": {
            "text/plain": [
              "114"
            ]
          },
          "execution_count": 13,
          "metadata": {},
          "output_type": "execute_result"
        }
      ],
      "source": [
        "# HW 2 questions\n",
        "modular_exponentiation(587, 345, 585)"
      ]
    }
  ],
  "metadata": {
    "colab": {
      "authorship_tag": "ABX9TyMVKaGbPUH0Di0HOCznGJTf",
      "provenance": []
    },
    "kernelspec": {
      "display_name": "Python 3",
      "name": "python3"
    },
    "language_info": {
      "codemirror_mode": {
        "name": "ipython",
        "version": 3
      },
      "file_extension": ".py",
      "mimetype": "text/x-python",
      "name": "python",
      "nbconvert_exporter": "python",
      "pygments_lexer": "ipython3",
      "version": "3.12.4"
    }
  },
  "nbformat": 4,
  "nbformat_minor": 0
}
