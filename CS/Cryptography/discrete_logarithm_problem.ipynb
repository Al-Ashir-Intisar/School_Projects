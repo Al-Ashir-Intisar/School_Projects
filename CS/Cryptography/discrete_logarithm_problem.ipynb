{
 "cells": [
  {
   "cell_type": "code",
   "execution_count": 2,
   "metadata": {},
   "outputs": [
    {
     "name": "stdout",
     "output_type": "stream",
     "text": [
      "Error: g is not a primitive root modulo p.\n"
     ]
    }
   ],
   "source": [
    "from sympy import isprime, primitive_root\n",
    "\n",
    "def discrete_log(g, h, p):\n",
    "    \"\"\"\n",
    "    Finds the smallest x such that g^x ≡ h (mod p), where:\n",
    "    - g is a candidate primitive root modulo p\n",
    "    - h is the target integer\n",
    "    - p is a prime number\n",
    "    \n",
    "    If p is not prime or g is not a primitive root modulo p, the function returns None.\n",
    "    \"\"\"\n",
    "    # Check if p is prime\n",
    "    if not isprime(p):\n",
    "        print(\"Error: p is not prime.\")\n",
    "        return None\n",
    "\n",
    "    # Check if g is a primitive root modulo p\n",
    "    try:\n",
    "        if primitive_root(p) != g:\n",
    "            print(\"Error: g is not a primitive root modulo p.\")\n",
    "            return None\n",
    "    except ValueError:\n",
    "        print(\"Error: p does not have a primitive root.\")\n",
    "        return None\n",
    "\n",
    "    # Brute-force search for the smallest x\n",
    "    x = 0\n",
    "    current = 1\n",
    "    while x < p:\n",
    "        if current == h:\n",
    "            return x\n",
    "        current = (current * g) % p\n",
    "        x += 1\n",
    "\n",
    "    print(\"Error: No solution found.\")\n",
    "    return None\n",
    "\n",
    "# Example usage:\n",
    "g = 2\n",
    "h = 5\n",
    "p = 7\n",
    "x = discrete_log(g, h, p)\n",
    "if x is not None:\n",
    "    print(f\"The smallest x such that {g}^x ≡ {h} (mod {p}) is {x}.\")\n"
   ]
  }
 ],
 "metadata": {
  "kernelspec": {
   "display_name": "base",
   "language": "python",
   "name": "python3"
  },
  "language_info": {
   "codemirror_mode": {
    "name": "ipython",
    "version": 3
   },
   "file_extension": ".py",
   "mimetype": "text/x-python",
   "name": "python",
   "nbconvert_exporter": "python",
   "pygments_lexer": "ipython3",
   "version": "3.12.9"
  }
 },
 "nbformat": 4,
 "nbformat_minor": 2
}
