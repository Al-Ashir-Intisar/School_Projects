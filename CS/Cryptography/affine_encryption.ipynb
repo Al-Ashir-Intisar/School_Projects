{
 "cells": [
  {
   "cell_type": "code",
   "execution_count": 2,
   "metadata": {},
   "outputs": [
    {
     "name": "stdout",
     "output_type": "stream",
     "text": [
      "Encrypted: linszxnsizxnsltn\n",
      "Decrypted: ihatemathematica\n"
     ]
    }
   ],
   "source": [
    "from sympy import mod_inverse\n",
    "\n",
    "def encrypt_message(plaintext, a, b):\n",
    "    \"\"\"Encrypts a message using the affine cipher formula: x = (a*y + b) mod 26\"\"\"\n",
    "    plaintext = plaintext.lower()  # Convert to lowercase for consistency\n",
    "    y = [ord(char) - ord('a') for char in plaintext]  # Convert letters to numbers (A=0, B=1, ..., Z=25)\n",
    "    x = [(a * num + b) % 26 for num in y]  # Apply transformation formula\n",
    "    cipher = \"\".join(chr(num + ord('a')) for num in x)  # Convert back to letters\n",
    "    return cipher\n",
    "\n",
    "def decrypt_message(ciphertext, a, b):\n",
    "    \"\"\"Decrypts an affine cipher using the formula: m = mod_inverse(a, 26) * (ci - b) mod 26\"\"\"\n",
    "    a_inv = mod_inverse(a, 26)  # Compute modular inverse of 'a' mod 26\n",
    "    ci = [ord(char) - ord('a') for char in ciphertext]  # Convert letters to numbers\n",
    "    m = [(a_inv * (num - b)) % 26 for num in ci]  # Apply decryption formula\n",
    "    plaintext = \"\".join(chr(num + ord('a')) for num in m)  # Convert back to letters\n",
    "    return plaintext\n",
    "\n",
    "# Example Usage\n",
    "cipher = encrypt_message(\"ihatemathematica\", 3, 13)\n",
    "print(\"Encrypted:\", cipher)\n",
    "\n",
    "decrypted = decrypt_message(cipher, 3, 13)\n",
    "print(\"Decrypted:\", decrypted)\n"
   ]
  }
 ],
 "metadata": {
  "kernelspec": {
   "display_name": "Python 3",
   "language": "python",
   "name": "python3"
  },
  "language_info": {
   "codemirror_mode": {
    "name": "ipython",
    "version": 3
   },
   "file_extension": ".py",
   "mimetype": "text/x-python",
   "name": "python",
   "nbconvert_exporter": "python",
   "pygments_lexer": "ipython3",
   "version": "3.12.4"
  }
 },
 "nbformat": 4,
 "nbformat_minor": 2
}
