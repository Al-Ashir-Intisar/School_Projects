{
  "nbformat": 4,
  "nbformat_minor": 0,
  "metadata": {
    "colab": {
      "provenance": [],
      "authorship_tag": "ABX9TyOjflcSfiF1CIMk0TecdAhv"
    },
    "kernelspec": {
      "name": "python3",
      "display_name": "Python 3"
    },
    "language_info": {
      "name": "python"
    }
  },
  "cells": [
    {
      "cell_type": "code",
      "execution_count": null,
      "metadata": {
        "colab": {
          "base_uri": "https://localhost:8080/"
        },
        "id": "661bYLW34nz7",
        "outputId": "44cd4a2f-271e-44f1-99ae-62839cdd2bca"
      },
      "outputs": [
        {
          "output_type": "stream",
          "name": "stdout",
          "text": [
            "Collecting gmpy2\n",
            "  Downloading gmpy2-2.2.1-cp311-cp311-manylinux_2_17_x86_64.manylinux2014_x86_64.whl.metadata (2.8 kB)\n",
            "Downloading gmpy2-2.2.1-cp311-cp311-manylinux_2_17_x86_64.manylinux2014_x86_64.whl (1.7 MB)\n",
            "\u001b[2K   \u001b[90m━━━━━━━━━━━━━━━━━━━━━━━━━━━━━━━━━━━━━━━━\u001b[0m \u001b[32m1.7/1.7 MB\u001b[0m \u001b[31m12.2 MB/s\u001b[0m eta \u001b[36m0:00:00\u001b[0m\n",
            "\u001b[?25hInstalling collected packages: gmpy2\n",
            "Successfully installed gmpy2-2.2.1\n"
          ]
        }
      ],
      "source": [
        "!pip install gmpy2\n",
        "\n",
        "import gmpy2"
      ]
    },
    {
      "cell_type": "markdown",
      "source": [
        "Digital Signatures"
      ],
      "metadata": {
        "id": "wUrAMhUW5eeK"
      }
    },
    {
      "cell_type": "code",
      "source": [
        "n = 9797\n",
        "e = 131\n",
        "D = 123\n",
        "S = 6292\n",
        "Se = pow(S,e,n)\n",
        "print(\"Verificattion Se =\", Se)"
      ],
      "metadata": {
        "colab": {
          "base_uri": "https://localhost:8080/"
        },
        "id": "Y-zzJGSV48Qn",
        "outputId": "0b03347f-6dcb-4859-f8bb-0ca3a19e1abf"
      },
      "execution_count": null,
      "outputs": [
        {
          "output_type": "stream",
          "name": "stdout",
          "text": [
            "Verificattion Se = 123\n"
          ]
        }
      ]
    },
    {
      "cell_type": "code",
      "source": [
        "n = 9797\n",
        "e = 131\n",
        "D = 4333\n",
        "S = 4768\n",
        "Se = pow(S,e,n)\n",
        "print(\"Verificattion Se =\", Se)"
      ],
      "metadata": {
        "colab": {
          "base_uri": "https://localhost:8080/"
        },
        "id": "M-Mn8fD75laJ",
        "outputId": "3b5d016d-d60f-478d-c4fb-456f353926a5"
      },
      "execution_count": null,
      "outputs": [
        {
          "output_type": "stream",
          "name": "stdout",
          "text": [
            "Verificattion Se = 9644\n"
          ]
        }
      ]
    },
    {
      "cell_type": "code",
      "source": [
        "n = 9797\n",
        "e = 131\n",
        "D = 4333\n",
        "S = 1424\n",
        "Se = pow(S,e,n)\n",
        "print(\"Verificattion Se =\", Se)"
      ],
      "metadata": {
        "id": "BgjAnpJV51SR"
      },
      "execution_count": null,
      "outputs": []
    }
  ]
}