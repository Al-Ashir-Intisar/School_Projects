{
 "cells": [
  {
   "cell_type": "code",
   "execution_count": 1,
   "metadata": {},
   "outputs": [],
   "source": [
    "import random\n",
    "\n",
    "def compute_public_key(base, private_key, prime_modulus):\n",
    "    \"\"\"Computes the public key using modular exponentiation.\"\"\"\n",
    "    return pow(base, private_key, prime_modulus)\n",
    "\n",
    "def compute_shared_secret(other_public_key, private_key, prime_modulus):\n",
    "    \"\"\"Computes the shared secret using the received public key.\"\"\"\n",
    "    return pow(other_public_key, private_key, prime_modulus)"
   ]
  },
  {
   "cell_type": "code",
   "execution_count": 2,
   "metadata": {},
   "outputs": [],
   "source": [
    "# Example values from Mathematica notebook\n",
    "P = 1327  # Prime modulus\n",
    "G = 230   # Generator"
   ]
  },
  {
   "cell_type": "code",
   "execution_count": 3,
   "metadata": {},
   "outputs": [
    {
     "name": "stdout",
     "output_type": "stream",
     "text": [
      "Alice's Public Key: 165\n"
     ]
    }
   ],
   "source": [
    "# Alice's private and public key\n",
    "a_private = 57\n",
    "a_public = compute_public_key(G, a_private, P)\n",
    "print(f\"Alice's Public Key: {a_public}\")"
   ]
  },
  {
   "cell_type": "code",
   "execution_count": 4,
   "metadata": {},
   "outputs": [
    {
     "name": "stdout",
     "output_type": "stream",
     "text": [
      "Bob's Public Key: 794\n"
     ]
    }
   ],
   "source": [
    "# Bob's private and public key\n",
    "b_private = 7\n",
    "b_public = compute_public_key(G, b_private, P)\n",
    "print(f\"Bob's Public Key: {b_public}\")"
   ]
  },
  {
   "cell_type": "code",
   "execution_count": 6,
   "metadata": {},
   "outputs": [
    {
     "name": "stdout",
     "output_type": "stream",
     "text": [
      "Alice's Shared Secret: 821\n",
      "Bob's Shared Secret: 821\n"
     ]
    }
   ],
   "source": [
    "# Compute shared secrets\n",
    "alice_shared_secret = compute_shared_secret(b_public, a_private, P)\n",
    "print(f\"Alice's Shared Secret: {alice_shared_secret}\")\n",
    "bob_shared_secret = compute_shared_secret(a_public, b_private, P)\n",
    "print(f\"Bob's Shared Secret: {bob_shared_secret}\")"
   ]
  },
  {
   "cell_type": "code",
   "execution_count": 11,
   "metadata": {},
   "outputs": [],
   "source": [
    "def brute_force_private_key(B, P, target):\n",
    "    \"\"\"Brute forces the private key by iterating over possible values.\"\"\"\n",
    "    key_table = []\n",
    "    for i in range(1, P):\n",
    "        Aprime = pow(B, i, P)\n",
    "        if Aprime == target:\n",
    "            key_table.append(i)\n",
    "    print(\"List of mathcing keys are:  {key_table}\")\n",
    "    return key_table"
   ]
  },
  {
   "cell_type": "code",
   "execution_count": 12,
   "metadata": {},
   "outputs": [
    {
     "name": "stdout",
     "output_type": "stream",
     "text": [
      "List of mathcing keys are:  {key_table}\n"
     ]
    },
    {
     "data": {
      "text/plain": [
       "[6,\n",
       " 23,\n",
       " 40,\n",
       " 57,\n",
       " 74,\n",
       " 91,\n",
       " 108,\n",
       " 125,\n",
       " 142,\n",
       " 159,\n",
       " 176,\n",
       " 193,\n",
       " 210,\n",
       " 227,\n",
       " 244,\n",
       " 261,\n",
       " 278,\n",
       " 295,\n",
       " 312,\n",
       " 329,\n",
       " 346,\n",
       " 363,\n",
       " 380,\n",
       " 397,\n",
       " 414,\n",
       " 431,\n",
       " 448,\n",
       " 465,\n",
       " 482,\n",
       " 499,\n",
       " 516,\n",
       " 533,\n",
       " 550,\n",
       " 567,\n",
       " 584,\n",
       " 601,\n",
       " 618,\n",
       " 635,\n",
       " 652,\n",
       " 669,\n",
       " 686,\n",
       " 703,\n",
       " 720,\n",
       " 737,\n",
       " 754,\n",
       " 771,\n",
       " 788,\n",
       " 805,\n",
       " 822,\n",
       " 839,\n",
       " 856,\n",
       " 873,\n",
       " 890,\n",
       " 907,\n",
       " 924,\n",
       " 941,\n",
       " 958,\n",
       " 975,\n",
       " 992,\n",
       " 1009,\n",
       " 1026,\n",
       " 1043,\n",
       " 1060,\n",
       " 1077,\n",
       " 1094,\n",
       " 1111,\n",
       " 1128,\n",
       " 1145,\n",
       " 1162,\n",
       " 1179,\n",
       " 1196,\n",
       " 1213,\n",
       " 1230,\n",
       " 1247,\n",
       " 1264,\n",
       " 1281,\n",
       " 1298,\n",
       " 1315]"
      ]
     },
     "execution_count": 12,
     "metadata": {},
     "output_type": "execute_result"
    }
   ],
   "source": [
    "brute_force_private_key(G, P, a_public)"
   ]
  },
  {
   "cell_type": "code",
   "execution_count": 13,
   "metadata": {},
   "outputs": [
    {
     "name": "stdout",
     "output_type": "stream",
     "text": [
      "List of mathcing keys are:  {key_table}\n"
     ]
    },
    {
     "data": {
      "text/plain": [
       "[7,\n",
       " 24,\n",
       " 41,\n",
       " 58,\n",
       " 75,\n",
       " 92,\n",
       " 109,\n",
       " 126,\n",
       " 143,\n",
       " 160,\n",
       " 177,\n",
       " 194,\n",
       " 211,\n",
       " 228,\n",
       " 245,\n",
       " 262,\n",
       " 279,\n",
       " 296,\n",
       " 313,\n",
       " 330,\n",
       " 347,\n",
       " 364,\n",
       " 381,\n",
       " 398,\n",
       " 415,\n",
       " 432,\n",
       " 449,\n",
       " 466,\n",
       " 483,\n",
       " 500,\n",
       " 517,\n",
       " 534,\n",
       " 551,\n",
       " 568,\n",
       " 585,\n",
       " 602,\n",
       " 619,\n",
       " 636,\n",
       " 653,\n",
       " 670,\n",
       " 687,\n",
       " 704,\n",
       " 721,\n",
       " 738,\n",
       " 755,\n",
       " 772,\n",
       " 789,\n",
       " 806,\n",
       " 823,\n",
       " 840,\n",
       " 857,\n",
       " 874,\n",
       " 891,\n",
       " 908,\n",
       " 925,\n",
       " 942,\n",
       " 959,\n",
       " 976,\n",
       " 993,\n",
       " 1010,\n",
       " 1027,\n",
       " 1044,\n",
       " 1061,\n",
       " 1078,\n",
       " 1095,\n",
       " 1112,\n",
       " 1129,\n",
       " 1146,\n",
       " 1163,\n",
       " 1180,\n",
       " 1197,\n",
       " 1214,\n",
       " 1231,\n",
       " 1248,\n",
       " 1265,\n",
       " 1282,\n",
       " 1299,\n",
       " 1316]"
      ]
     },
     "execution_count": 13,
     "metadata": {},
     "output_type": "execute_result"
    }
   ],
   "source": [
    "brute_force_private_key(G, P, b_public)"
   ]
  }
 ],
 "metadata": {
  "kernelspec": {
   "display_name": "Python 3",
   "language": "python",
   "name": "python3"
  },
  "language_info": {
   "codemirror_mode": {
    "name": "ipython",
    "version": 3
   },
   "file_extension": ".py",
   "mimetype": "text/x-python",
   "name": "python",
   "nbconvert_exporter": "python",
   "pygments_lexer": "ipython3",
   "version": "3.12.4"
  }
 },
 "nbformat": 4,
 "nbformat_minor": 2
}
