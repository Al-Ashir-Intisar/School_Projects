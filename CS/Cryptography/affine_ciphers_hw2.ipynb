{
 "cells": [
  {
   "cell_type": "code",
   "execution_count": 44,
   "metadata": {},
   "outputs": [],
   "source": [
    "# Function to find modular inverse of a under modulo m\n",
    "def mod_inverse(a, m):\n",
    "    for x in range(1, m):\n",
    "        if (a * x) % m == 1:\n",
    "            return x\n",
    "    return None  # No modular inverse if function returns None\n",
    "\n",
    "\n"
   ]
  },
  {
   "cell_type": "code",
   "execution_count": 45,
   "metadata": {},
   "outputs": [],
   "source": [
    "# Encryption function for Affine Cipher (works only with numbers)\n",
    "def affine_encrypt(numbers, k1, k2, p):\n",
    "    encrypted_numbers = []\n",
    "    for m in numbers:  # Iterate over each number in the list\n",
    "        c = (k1 * m + k2) % p  # Apply encryption formula\n",
    "        encrypted_numbers.append(c)\n",
    "    return encrypted_numbers\n",
    "\n",
    "# Decryption function for Affine Cipher (works only with numbers)\n",
    "def affine_decrypt(encrypted_numbers, k1, k2, p):\n",
    "    decrypted_numbers = []\n",
    "    k1_inv = mod_inverse(k1, p)  # Find modular inverse of k1\n",
    "    if k1_inv is None:\n",
    "        raise ValueError(\"k1 has no modular inverse, choose a different key.\")\n",
    "\n",
    "    for c in encrypted_numbers:  # Iterate over each encrypted number\n",
    "        m = (k1_inv * (c - k2)) % p  # Apply decryption formula\n",
    "        decrypted_numbers.append(m)\n",
    "    return decrypted_numbers"
   ]
  },
  {
   "cell_type": "code",
   "execution_count": 46,
   "metadata": {},
   "outputs": [
    {
     "name": "stdout",
     "output_type": "stream",
     "text": [
      "Original Numbers:   [4, 8, 15, 16, 23, 42]\n",
      "Encrypted Numbers:  [5, 7, 4, 11, 8, 11]\n",
      "Decrypted Numbers:  [4, 8, 15, 16, 23, 16]\n"
     ]
    }
   ],
   "source": [
    "# Example usage\n",
    "if __name__ == \"__main__\":\n",
    "    k1, k2, p = 7, 3, 26  # Example keys and modulus\n",
    "    plaintext_numbers = [4, 8, 15, 16, 23, 42]  # Example numbers to encrypt\n",
    "\n",
    "    encrypted_numbers = affine_encrypt(plaintext_numbers, k1, k2, p)\n",
    "    decrypted_numbers = affine_decrypt(encrypted_numbers, k1, k2, p)\n",
    "\n",
    "    print(f\"Original Numbers:   {plaintext_numbers}\")\n",
    "    print(f\"Encrypted Numbers:  {encrypted_numbers}\")\n",
    "    print(f\"Decrypted Numbers:  {decrypted_numbers}\")"
   ]
  },
  {
   "cell_type": "code",
   "execution_count": 47,
   "metadata": {},
   "outputs": [],
   "source": [
    "p = 541\n",
    "k1 = 34\n",
    "k2 = 71 \n",
    "m = 204\n",
    "c = 431"
   ]
  },
  {
   "cell_type": "code",
   "execution_count": 48,
   "metadata": {},
   "outputs": [
    {
     "data": {
      "text/plain": [
       "[515]"
      ]
     },
     "execution_count": 48,
     "metadata": {},
     "output_type": "execute_result"
    }
   ],
   "source": [
    "affine_encrypt([m], k1, k2, p)"
   ]
  },
  {
   "cell_type": "code",
   "execution_count": 49,
   "metadata": {},
   "outputs": [
    {
     "data": {
      "text/plain": [
       "515"
      ]
     },
     "execution_count": 49,
     "metadata": {},
     "output_type": "execute_result"
    }
   ],
   "source": [
    "(34*204 + 71) % 541"
   ]
  },
  {
   "cell_type": "code",
   "execution_count": 50,
   "metadata": {},
   "outputs": [
    {
     "data": {
      "text/plain": [
       "366"
      ]
     },
     "execution_count": 50,
     "metadata": {},
     "output_type": "execute_result"
    }
   ],
   "source": [
    "mod_inverse(34, 541)"
   ]
  },
  {
   "cell_type": "code",
   "execution_count": 51,
   "metadata": {},
   "outputs": [
    {
     "data": {
      "text/plain": [
       "297"
      ]
     },
     "execution_count": 51,
     "metadata": {},
     "output_type": "execute_result"
    }
   ],
   "source": [
    "(366*360) % 541"
   ]
  },
  {
   "cell_type": "code",
   "execution_count": 52,
   "metadata": {},
   "outputs": [
    {
     "data": {
      "text/plain": [
       "[297]"
      ]
     },
     "execution_count": 52,
     "metadata": {},
     "output_type": "execute_result"
    }
   ],
   "source": [
    "affine_decrypt([c], k1, k2, p)"
   ]
  },
  {
   "cell_type": "code",
   "execution_count": 53,
   "metadata": {},
   "outputs": [
    {
     "data": {
      "text/plain": [
       "57"
      ]
     },
     "execution_count": 53,
     "metadata": {},
     "output_type": "execute_result"
    }
   ],
   "source": [
    "381-324"
   ]
  },
  {
   "cell_type": "code",
   "execution_count": 54,
   "metadata": {},
   "outputs": [
    {
     "data": {
      "text/plain": [
       "-11637"
      ]
     },
     "execution_count": 54,
     "metadata": {},
     "output_type": "execute_result"
    }
   ],
   "source": [
    "(381*387) - (324*491) "
   ]
  },
  {
   "cell_type": "code",
   "execution_count": 55,
   "metadata": {},
   "outputs": [
    {
     "data": {
      "text/plain": [
       "-204.1578947368421"
      ]
     },
     "execution_count": 55,
     "metadata": {},
     "output_type": "execute_result"
    }
   ],
   "source": [
    "((381*387) - (324*491)) / 57"
   ]
  },
  {
   "cell_type": "code",
   "execution_count": 56,
   "metadata": {},
   "outputs": [
    {
     "data": {
      "text/plain": [
       "383"
      ]
     },
     "execution_count": 56,
     "metadata": {},
     "output_type": "execute_result"
    }
   ],
   "source": [
    "-11637 % 601"
   ]
  },
  {
   "cell_type": "code",
   "execution_count": 57,
   "metadata": {},
   "outputs": [
    {
     "data": {
      "text/plain": [
       "116"
      ]
     },
     "execution_count": 57,
     "metadata": {},
     "output_type": "execute_result"
    }
   ],
   "source": [
    "mod_inverse(57, 601)"
   ]
  },
  {
   "cell_type": "code",
   "execution_count": 58,
   "metadata": {},
   "outputs": [
    {
     "data": {
      "text/plain": [
       "555"
      ]
     },
     "execution_count": 58,
     "metadata": {},
     "output_type": "execute_result"
    }
   ],
   "source": [
    "(116*383) % 601"
   ]
  },
  {
   "cell_type": "code",
   "execution_count": 59,
   "metadata": {},
   "outputs": [
    {
     "data": {
      "text/plain": [
       "-168"
      ]
     },
     "execution_count": 59,
     "metadata": {},
     "output_type": "execute_result"
    }
   ],
   "source": [
    "387-555"
   ]
  },
  {
   "cell_type": "code",
   "execution_count": 60,
   "metadata": {},
   "outputs": [
    {
     "data": {
      "text/plain": [
       "347"
      ]
     },
     "execution_count": 60,
     "metadata": {},
     "output_type": "execute_result"
    }
   ],
   "source": [
    "mod_inverse(-168, 601)"
   ]
  },
  {
   "cell_type": "code",
   "execution_count": 61,
   "metadata": {},
   "outputs": [
    {
     "data": {
      "text/plain": [
       "41"
      ]
     },
     "execution_count": 61,
     "metadata": {},
     "output_type": "execute_result"
    }
   ],
   "source": [
    "(324*347) % 601"
   ]
  },
  {
   "cell_type": "code",
   "execution_count": 62,
   "metadata": {},
   "outputs": [
    {
     "data": {
      "text/plain": [
       "436"
      ]
     },
     "execution_count": 62,
     "metadata": {},
     "output_type": "execute_result"
    }
   ],
   "source": [
    "(41*173 + 555) % 601"
   ]
  },
  {
   "cell_type": "code",
   "execution_count": 63,
   "metadata": {},
   "outputs": [
    {
     "data": {
      "text/plain": [
       "[173]"
      ]
     },
     "execution_count": 63,
     "metadata": {},
     "output_type": "execute_result"
    }
   ],
   "source": [
    "affine_decrypt([436], 41, 555, 601)"
   ]
  },
  {
   "cell_type": "code",
   "execution_count": 64,
   "metadata": {},
   "outputs": [],
   "source": [
    "import math"
   ]
  },
  {
   "cell_type": "code",
   "execution_count": 65,
   "metadata": {},
   "outputs": [
    {
     "data": {
      "text/plain": [
       "864000000000000"
      ]
     },
     "execution_count": 65,
     "metadata": {},
     "output_type": "execute_result"
    }
   ],
   "source": [
    "86400 * 10000000000"
   ]
  },
  {
   "cell_type": "code",
   "execution_count": 66,
   "metadata": {},
   "outputs": [
    {
     "data": {
      "text/plain": [
       "5.381975359188182"
      ]
     },
     "execution_count": 66,
     "metadata": {},
     "output_type": "execute_result"
    }
   ],
   "source": [
    "55 -math.log(86400 * 10000000000, 2)"
   ]
  },
  {
   "cell_type": "code",
   "execution_count": 67,
   "metadata": {},
   "outputs": [
    {
     "data": {
      "text/plain": [
       "41.64293937414187"
      ]
     },
     "execution_count": 67,
     "metadata": {},
     "output_type": "execute_result"
    }
   ],
   "source": [
    "2**5.38"
   ]
  },
  {
   "cell_type": "code",
   "execution_count": 68,
   "metadata": {},
   "outputs": [
    {
     "data": {
      "text/plain": [
       "15.156596652578223"
      ]
     },
     "execution_count": 68,
     "metadata": {},
     "output_type": "execute_result"
    }
   ],
   "source": [
    "math.log2(100*365.25)"
   ]
  },
  {
   "cell_type": "code",
   "execution_count": 69,
   "metadata": {},
   "outputs": [
    {
     "data": {
      "text/plain": [
       "9.780000000000001"
      ]
     },
     "execution_count": 69,
     "metadata": {},
     "output_type": "execute_result"
    }
   ],
   "source": [
    "15.16 - 5.38"
   ]
  },
  {
   "cell_type": "code",
   "execution_count": 70,
   "metadata": {},
   "outputs": [
    {
     "data": {
      "text/plain": [
       "650"
      ]
     },
     "execution_count": 70,
     "metadata": {},
     "output_type": "execute_result"
    }
   ],
   "source": [
    "26*25"
   ]
  },
  {
   "cell_type": "code",
   "execution_count": 93,
   "metadata": {},
   "outputs": [],
   "source": [
    "from math import gcd\n",
    "import time\n",
    "\n",
    "def is_coprime(x, y):\n",
    "    return gcd(x, y) == 1\n",
    "\n",
    "# function to decrypt Affine Cipher with given key (k1, k2) and modulus p = 26\n",
    "def affine_decrypt(ciphertext, k1, k2, p=26):\n",
    "    decrpted_text = \"\"\n",
    "    k1_inv = mod_inverse(k1, p)\n",
    "    if k1_inv is None:\n",
    "        raise ValueError(\"Decryption is not possible as 'a' and 'm' are not coprime.\")\n",
    "    \n",
    "    for char in ciphertext:\n",
    "        if char.isalpha():\n",
    "            #print(ord('A'))\n",
    "            c = ord(char.upper()) - ord('A')\n",
    "            m = (k1_inv * (c - k2)) % p\n",
    "            decrpted_text += chr(m + ord('A'))\n",
    "        else:\n",
    "            decrpted_text += char\n",
    "    return decrpted_text\n",
    "\n",
    "\n",
    "\n",
    "\n"
   ]
  },
  {
   "cell_type": "code",
   "execution_count": 94,
   "metadata": {},
   "outputs": [
    {
     "data": {
      "text/plain": [
       "'TOTOIVEAFEELINGWERENOTINKANSASANYMORE'"
      ]
     },
     "execution_count": 94,
     "metadata": {},
     "output_type": "execute_result"
    }
   ],
   "source": [
    "affine_decrypt(\"lolocpumjuuvczyeuhuzolczgmzwmwmzikohu\", 15, 12, p= 26)"
   ]
  },
  {
   "cell_type": "code",
   "execution_count": 95,
   "metadata": {},
   "outputs": [],
   "source": [
    "# Function to try all possible (k1,k2) pairs anf print the decrypted text\n",
    "def brute_force_affine_decrypt(ciphertext, p = 26):\n",
    "    possible_plaintexts = []\n",
    "    start_time = time.time()\n",
    "\n",
    "    for k1 in range(0, p):\n",
    "        # to be able to compute modular inverses of k1 we need k1 and p to be coprime\n",
    "        if is_coprime(k1, p):\n",
    "            for k2 in range(0, p):\n",
    "                decrypted = affine_decrypt(ciphertext, k1, k2)\n",
    "                if decrypted:\n",
    "                    possible_plaintexts.append((k1, k2, decrypted))\n",
    "    end_time = time.time()\n",
    "    # Compute elapsed time\n",
    "    execution_time = end_time - start_time\n",
    "    print(f\"Execution Time: {execution_time:.4f} seconds\")\n",
    "    return possible_plaintexts"
   ]
  },
  {
   "cell_type": "code",
   "execution_count": 96,
   "metadata": {},
   "outputs": [
    {
     "name": "stdout",
     "output_type": "stream",
     "text": [
      "Execution Time: 0.0080 seconds\n"
     ]
    }
   ],
   "source": [
    "possible_original_plaintexts = brute_force_affine_decrypt(\"lolocpumjuuvczyeuhuzolczgmzwmwmzikohu\")"
   ]
  },
  {
   "cell_type": "code",
   "execution_count": null,
   "metadata": {},
   "outputs": [],
   "source": [
    "for k1, k2, decrypted in possible_original_plaintexts:\n",
    "    print(f\"Key: ({k1}, {k2}) -> {decrypted}\")"
   ]
  },
  {
   "cell_type": "code",
   "execution_count": 92,
   "metadata": {},
   "outputs": [
    {
     "data": {
      "text/plain": [
       "'TOTOIVEAFEELINGWERENOTINKANSASANYMORE'"
      ]
     },
     "execution_count": 92,
     "metadata": {},
     "output_type": "execute_result"
    }
   ],
   "source": [
    "affine_decrypt(\"lolocpumjuuvczyeuhuzolczgmzwmwmzikohu\", 15, 12, p= 26)"
   ]
  },
  {
   "cell_type": "code",
   "execution_count": 88,
   "metadata": {},
   "outputs": [
    {
     "data": {
      "text/plain": [
       "312"
      ]
     },
     "execution_count": 88,
     "metadata": {},
     "output_type": "execute_result"
    }
   ],
   "source": [
    "len(possible_original_plaintexts)"
   ]
  }
 ],
 "metadata": {
  "kernelspec": {
   "display_name": "Python 3",
   "language": "python",
   "name": "python3"
  },
  "language_info": {
   "codemirror_mode": {
    "name": "ipython",
    "version": 3
   },
   "file_extension": ".py",
   "mimetype": "text/x-python",
   "name": "python",
   "nbconvert_exporter": "python",
   "pygments_lexer": "ipython3",
   "version": "3.12.4"
  }
 },
 "nbformat": 4,
 "nbformat_minor": 2
}
