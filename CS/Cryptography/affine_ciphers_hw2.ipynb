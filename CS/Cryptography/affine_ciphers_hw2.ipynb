{
 "cells": [
  {
   "cell_type": "code",
   "execution_count": 44,
   "metadata": {},
   "outputs": [],
   "source": [
    "# Function to find modular inverse of a under modulo m\n",
    "def mod_inverse(a, m):\n",
    "    for x in range(1, m):\n",
    "        if (a * x) % m == 1:\n",
    "            return x\n",
    "    return None  # No modular inverse if function returns None\n",
    "\n",
    "\n"
   ]
  },
  {
   "cell_type": "code",
   "execution_count": 45,
   "metadata": {},
   "outputs": [],
   "source": [
    "# Encryption function for Affine Cipher (works only with numbers)\n",
    "def affine_encrypt(numbers, k1, k2, p):\n",
    "    encrypted_numbers = []\n",
    "    for m in numbers:  # Iterate over each number in the list\n",
    "        c = (k1 * m + k2) % p  # Apply encryption formula\n",
    "        encrypted_numbers.append(c)\n",
    "    return encrypted_numbers\n",
    "\n",
    "# Decryption function for Affine Cipher (works only with numbers)\n",
    "def affine_decrypt(encrypted_numbers, k1, k2, p):\n",
    "    decrypted_numbers = []\n",
    "    k1_inv = mod_inverse(k1, p)  # Find modular inverse of k1\n",
    "    if k1_inv is None:\n",
    "        raise ValueError(\"k1 has no modular inverse, choose a different key.\")\n",
    "\n",
    "    for c in encrypted_numbers:  # Iterate over each encrypted number\n",
    "        m = (k1_inv * (c - k2)) % p  # Apply decryption formula\n",
    "        decrypted_numbers.append(m)\n",
    "    return decrypted_numbers"
   ]
  },
  {
   "cell_type": "code",
   "execution_count": 46,
   "metadata": {},
   "outputs": [
    {
     "name": "stdout",
     "output_type": "stream",
     "text": [
      "Original Numbers:   [4, 8, 15, 16, 23, 42]\n",
      "Encrypted Numbers:  [5, 7, 4, 11, 8, 11]\n",
      "Decrypted Numbers:  [4, 8, 15, 16, 23, 16]\n"
     ]
    }
   ],
   "source": [
    "# Example usage\n",
    "if __name__ == \"__main__\":\n",
    "    k1, k2, p = 7, 3, 26  # Example keys and modulus\n",
    "    plaintext_numbers = [4, 8, 15, 16, 23, 42]  # Example numbers to encrypt\n",
    "\n",
    "    encrypted_numbers = affine_encrypt(plaintext_numbers, k1, k2, p)\n",
    "    decrypted_numbers = affine_decrypt(encrypted_numbers, k1, k2, p)\n",
    "\n",
    "    print(f\"Original Numbers:   {plaintext_numbers}\")\n",
    "    print(f\"Encrypted Numbers:  {encrypted_numbers}\")\n",
    "    print(f\"Decrypted Numbers:  {decrypted_numbers}\")"
   ]
  },
  {
   "cell_type": "code",
   "execution_count": 47,
   "metadata": {},
   "outputs": [],
   "source": [
    "p = 541\n",
    "k1 = 34\n",
    "k2 = 71 \n",
    "m = 204\n",
    "c = 431"
   ]
  },
  {
   "cell_type": "code",
   "execution_count": 48,
   "metadata": {},
   "outputs": [
    {
     "data": {
      "text/plain": [
       "[515]"
      ]
     },
     "execution_count": 48,
     "metadata": {},
     "output_type": "execute_result"
    }
   ],
   "source": [
    "affine_encrypt([m], k1, k2, p)"
   ]
  },
  {
   "cell_type": "code",
   "execution_count": 49,
   "metadata": {},
   "outputs": [
    {
     "data": {
      "text/plain": [
       "515"
      ]
     },
     "execution_count": 49,
     "metadata": {},
     "output_type": "execute_result"
    }
   ],
   "source": [
    "(34*204 + 71) % 541"
   ]
  },
  {
   "cell_type": "code",
   "execution_count": 50,
   "metadata": {},
   "outputs": [
    {
     "data": {
      "text/plain": [
       "366"
      ]
     },
     "execution_count": 50,
     "metadata": {},
     "output_type": "execute_result"
    }
   ],
   "source": [
    "mod_inverse(34, 541)"
   ]
  },
  {
   "cell_type": "code",
   "execution_count": 51,
   "metadata": {},
   "outputs": [
    {
     "data": {
      "text/plain": [
       "297"
      ]
     },
     "execution_count": 51,
     "metadata": {},
     "output_type": "execute_result"
    }
   ],
   "source": [
    "(366*360) % 541"
   ]
  },
  {
   "cell_type": "code",
   "execution_count": 52,
   "metadata": {},
   "outputs": [
    {
     "data": {
      "text/plain": [
       "[297]"
      ]
     },
     "execution_count": 52,
     "metadata": {},
     "output_type": "execute_result"
    }
   ],
   "source": [
    "affine_decrypt([c], k1, k2, p)"
   ]
  },
  {
   "cell_type": "code",
   "execution_count": 53,
   "metadata": {},
   "outputs": [
    {
     "data": {
      "text/plain": [
       "57"
      ]
     },
     "execution_count": 53,
     "metadata": {},
     "output_type": "execute_result"
    }
   ],
   "source": [
    "381-324"
   ]
  },
  {
   "cell_type": "code",
   "execution_count": 54,
   "metadata": {},
   "outputs": [
    {
     "data": {
      "text/plain": [
       "-11637"
      ]
     },
     "execution_count": 54,
     "metadata": {},
     "output_type": "execute_result"
    }
   ],
   "source": [
    "(381*387) - (324*491) "
   ]
  },
  {
   "cell_type": "code",
   "execution_count": 55,
   "metadata": {},
   "outputs": [
    {
     "data": {
      "text/plain": [
       "-204.1578947368421"
      ]
     },
     "execution_count": 55,
     "metadata": {},
     "output_type": "execute_result"
    }
   ],
   "source": [
    "((381*387) - (324*491)) / 57"
   ]
  },
  {
   "cell_type": "code",
   "execution_count": 56,
   "metadata": {},
   "outputs": [
    {
     "data": {
      "text/plain": [
       "383"
      ]
     },
     "execution_count": 56,
     "metadata": {},
     "output_type": "execute_result"
    }
   ],
   "source": [
    "-11637 % 601"
   ]
  },
  {
   "cell_type": "code",
   "execution_count": 57,
   "metadata": {},
   "outputs": [
    {
     "data": {
      "text/plain": [
       "116"
      ]
     },
     "execution_count": 57,
     "metadata": {},
     "output_type": "execute_result"
    }
   ],
   "source": [
    "mod_inverse(57, 601)"
   ]
  },
  {
   "cell_type": "code",
   "execution_count": 58,
   "metadata": {},
   "outputs": [
    {
     "data": {
      "text/plain": [
       "555"
      ]
     },
     "execution_count": 58,
     "metadata": {},
     "output_type": "execute_result"
    }
   ],
   "source": [
    "(116*383) % 601"
   ]
  },
  {
   "cell_type": "code",
   "execution_count": 59,
   "metadata": {},
   "outputs": [
    {
     "data": {
      "text/plain": [
       "-168"
      ]
     },
     "execution_count": 59,
     "metadata": {},
     "output_type": "execute_result"
    }
   ],
   "source": [
    "387-555"
   ]
  },
  {
   "cell_type": "code",
   "execution_count": 60,
   "metadata": {},
   "outputs": [
    {
     "data": {
      "text/plain": [
       "347"
      ]
     },
     "execution_count": 60,
     "metadata": {},
     "output_type": "execute_result"
    }
   ],
   "source": [
    "mod_inverse(-168, 601)"
   ]
  },
  {
   "cell_type": "code",
   "execution_count": 61,
   "metadata": {},
   "outputs": [
    {
     "data": {
      "text/plain": [
       "41"
      ]
     },
     "execution_count": 61,
     "metadata": {},
     "output_type": "execute_result"
    }
   ],
   "source": [
    "(324*347) % 601"
   ]
  },
  {
   "cell_type": "code",
   "execution_count": 62,
   "metadata": {},
   "outputs": [
    {
     "data": {
      "text/plain": [
       "436"
      ]
     },
     "execution_count": 62,
     "metadata": {},
     "output_type": "execute_result"
    }
   ],
   "source": [
    "(41*173 + 555) % 601"
   ]
  },
  {
   "cell_type": "code",
   "execution_count": 63,
   "metadata": {},
   "outputs": [
    {
     "data": {
      "text/plain": [
       "[173]"
      ]
     },
     "execution_count": 63,
     "metadata": {},
     "output_type": "execute_result"
    }
   ],
   "source": [
    "affine_decrypt([436], 41, 555, 601)"
   ]
  },
  {
   "cell_type": "code",
   "execution_count": 64,
   "metadata": {},
   "outputs": [],
   "source": [
    "import math"
   ]
  },
  {
   "cell_type": "code",
   "execution_count": 65,
   "metadata": {},
   "outputs": [
    {
     "data": {
      "text/plain": [
       "864000000000000"
      ]
     },
     "execution_count": 65,
     "metadata": {},
     "output_type": "execute_result"
    }
   ],
   "source": [
    "86400 * 10000000000"
   ]
  },
  {
   "cell_type": "code",
   "execution_count": 66,
   "metadata": {},
   "outputs": [
    {
     "data": {
      "text/plain": [
       "5.381975359188182"
      ]
     },
     "execution_count": 66,
     "metadata": {},
     "output_type": "execute_result"
    }
   ],
   "source": [
    "55 -math.log(86400 * 10000000000, 2)"
   ]
  },
  {
   "cell_type": "code",
   "execution_count": 67,
   "metadata": {},
   "outputs": [
    {
     "data": {
      "text/plain": [
       "41.64293937414187"
      ]
     },
     "execution_count": 67,
     "metadata": {},
     "output_type": "execute_result"
    }
   ],
   "source": [
    "2**5.38"
   ]
  },
  {
   "cell_type": "code",
   "execution_count": 68,
   "metadata": {},
   "outputs": [
    {
     "data": {
      "text/plain": [
       "15.156596652578223"
      ]
     },
     "execution_count": 68,
     "metadata": {},
     "output_type": "execute_result"
    }
   ],
   "source": [
    "math.log2(100*365.25)"
   ]
  },
  {
   "cell_type": "code",
   "execution_count": 69,
   "metadata": {},
   "outputs": [
    {
     "data": {
      "text/plain": [
       "9.780000000000001"
      ]
     },
     "execution_count": 69,
     "metadata": {},
     "output_type": "execute_result"
    }
   ],
   "source": [
    "15.16 - 5.38"
   ]
  },
  {
   "cell_type": "code",
   "execution_count": 70,
   "metadata": {},
   "outputs": [
    {
     "data": {
      "text/plain": [
       "650"
      ]
     },
     "execution_count": 70,
     "metadata": {},
     "output_type": "execute_result"
    }
   ],
   "source": [
    "26*25"
   ]
  },
  {
   "cell_type": "code",
   "execution_count": null,
   "metadata": {},
   "outputs": [],
   "source": [
    "from math import gcd\n",
    "import time\n",
    "\n",
    "def is_coprime(x, y):\n",
    "    return gcd(x, y) == 1\n",
    "\n",
    "# function to decrypt Affine Cipher with given key (k1, k2) and modulus p = 26\n",
    "def affine_decrypt(ciphertext, k1, k2, p=26):\n",
    "    decrpted_text = \"\"\n",
    "    k1_inv = mod_inverse(k1, p)\n",
    "    if k1_inv is None:\n",
    "        raise ValueError(\"Decryption is not possible as 'a' and 'm' are not coprime.\")\n",
    "    \n",
    "    for char in ciphertext:\n",
    "        if char.isalpha():\n",
    "            c = ord(char.upper()) - ord('A')\n",
    "            m = (k1_inv * (c - k2)) % p\n",
    "            decrpted_text += chr(m + ord('A'))\n",
    "        else:\n",
    "            decrpted_text += char\n",
    "    return decrpted_text\n",
    "\n",
    "# Function to try all possible (k1,k2) pairs anf print the decrypted text\n",
    "def brute_force_affine_decrypt(ciphertext, p = 26):\n",
    "    possible_plaintexts = []\n",
    "    start_time = time.time()\n",
    "\n",
    "    for k1 in range(0, p):\n",
    "        # to be able to compute modular inverses of k1 we need k1 and p to be coprime\n",
    "        if is_coprime(k1, p):\n",
    "            for k2 in range(0, p):\n",
    "                decrypted = affine_decrypt(ciphertext, k1, k2)\n",
    "                if decrypted:\n",
    "                    possible_plaintexts.append((k1, k2, decrypted))\n",
    "    end_time = time.time()\n",
    "    # Compute elapsed time\n",
    "    execution_time = end_time - start_time\n",
    "    print(f\"Execution Time: {execution_time:.4f} seconds\")\n",
    "    return possible_plaintexts\n",
    "\n",
    "\n"
   ]
  },
  {
   "cell_type": "code",
   "execution_count": 85,
   "metadata": {},
   "outputs": [
    {
     "name": "stdout",
     "output_type": "stream",
     "text": [
      "Execution Time: 0.0080 seconds\n"
     ]
    }
   ],
   "source": [
    "possible_original_plaintexts = brute_force_affine_decrypt(\"lolocpumjuuvczyeuhuzolczgmzwmwmzikohu\")"
   ]
  },
  {
   "cell_type": "code",
   "execution_count": 86,
   "metadata": {},
   "outputs": [
    {
     "name": "stdout",
     "output_type": "stream",
     "text": [
      "Key: (1, 0) -> LOLOCPUMJUUVCZYEUHUZOLCZGMZWMWMZIKOHU\n",
      "Key: (1, 1) -> KNKNBOTLITTUBYXDTGTYNKBYFLYVLVLYHJNGT\n",
      "Key: (1, 2) -> JMJMANSKHSSTAXWCSFSXMJAXEKXUKUKXGIMFS\n",
      "Key: (1, 3) -> ILILZMRJGRRSZWVBRERWLIZWDJWTJTJWFHLER\n",
      "Key: (1, 4) -> HKHKYLQIFQQRYVUAQDQVKHYVCIVSISIVEGKDQ\n",
      "Key: (1, 5) -> GJGJXKPHEPPQXUTZPCPUJGXUBHURHRHUDFJCP\n",
      "Key: (1, 6) -> FIFIWJOGDOOPWTSYOBOTIFWTAGTQGQGTCEIBO\n",
      "Key: (1, 7) -> EHEHVINFCNNOVSRXNANSHEVSZFSPFPFSBDHAN\n",
      "Key: (1, 8) -> DGDGUHMEBMMNURQWMZMRGDURYEROEOERACGZM\n",
      "Key: (1, 9) -> CFCFTGLDALLMTQPVLYLQFCTQXDQNDNDQZBFYL\n",
      "Key: (1, 10) -> BEBESFKCZKKLSPOUKXKPEBSPWCPMCMCPYAEXK\n",
      "Key: (1, 11) -> ADADREJBYJJKRONTJWJODAROVBOLBLBOXZDWJ\n",
      "Key: (1, 12) -> ZCZCQDIAXIIJQNMSIVINCZQNUANKAKANWYCVI\n",
      "Key: (1, 13) -> YBYBPCHZWHHIPMLRHUHMBYPMTZMJZJZMVXBUH\n",
      "Key: (1, 14) -> XAXAOBGYVGGHOLKQGTGLAXOLSYLIYIYLUWATG\n",
      "Key: (1, 15) -> WZWZNAFXUFFGNKJPFSFKZWNKRXKHXHXKTVZSF\n",
      "Key: (1, 16) -> VYVYMZEWTEEFMJIOEREJYVMJQWJGWGWJSUYRE\n",
      "Key: (1, 17) -> UXUXLYDVSDDELIHNDQDIXULIPVIFVFVIRTXQD\n",
      "Key: (1, 18) -> TWTWKXCURCCDKHGMCPCHWTKHOUHEUEUHQSWPC\n",
      "Key: (1, 19) -> SVSVJWBTQBBCJGFLBOBGVSJGNTGDTDTGPRVOB\n",
      "Key: (1, 20) -> RURUIVASPAABIFEKANAFURIFMSFCSCSFOQUNA\n",
      "Key: (1, 21) -> QTQTHUZROZZAHEDJZMZETQHELREBRBRENPTMZ\n",
      "Key: (1, 22) -> PSPSGTYQNYYZGDCIYLYDSPGDKQDAQAQDMOSLY\n",
      "Key: (1, 23) -> ORORFSXPMXXYFCBHXKXCROFCJPCZPZPCLNRKX\n",
      "Key: (1, 24) -> NQNQERWOLWWXEBAGWJWBQNEBIOBYOYOBKMQJW\n",
      "Key: (1, 25) -> MPMPDQVNKVVWDAZFVIVAPMDAHNAXNXNAJLPIV\n",
      "Key: (3, 0) -> VWVWSFYEDYYHSRIKYLYRWVSRCERQEQERUMWLY\n",
      "Key: (3, 1) -> MNMNJWPVUPPYJIZBPCPINMJITVIHVHVILDNCP\n",
      "Key: (3, 2) -> DEDEANGMLGGPAZQSGTGZEDAZKMZYMYMZCUETG\n",
      "Key: (3, 3) -> UVUVREXDCXXGRQHJXKXQVURQBDQPDPDQTLVKX\n",
      "Key: (3, 4) -> LMLMIVOUTOOXIHYAOBOHMLIHSUHGUGUHKCMBO\n",
      "Key: (3, 5) -> CDCDZMFLKFFOZYPRFSFYDCZYJLYXLXLYBTDSF\n",
      "Key: (3, 6) -> TUTUQDWCBWWFQPGIWJWPUTQPACPOCOCPSKUJW\n",
      "Key: (3, 7) -> KLKLHUNTSNNWHGXZNANGLKHGRTGFTFTGJBLAN\n",
      "Key: (3, 8) -> BCBCYLEKJEENYXOQEREXCBYXIKXWKWKXASCRE\n",
      "Key: (3, 9) -> STSTPCVBAVVEPOFHVIVOTSPOZBONBNBORJTIV\n",
      "Key: (3, 10) -> JKJKGTMSRMMVGFWYMZMFKJGFQSFESESFIAKZM\n",
      "Key: (3, 11) -> ABABXKDJIDDMXWNPDQDWBAXWHJWVJVJWZRBQD\n",
      "Key: (3, 12) -> RSRSOBUAZUUDONEGUHUNSRONYANMAMANQISHU\n",
      "Key: (3, 13) -> IJIJFSLRQLLUFEVXLYLEJIFEPREDRDREHZJYL\n",
      "Key: (3, 14) -> ZAZAWJCIHCCLWVMOCPCVAZWVGIVUIUIVYQAPC\n",
      "Key: (3, 15) -> QRQRNATZYTTCNMDFTGTMRQNMXZMLZLZMPHRGT\n",
      "Key: (3, 16) -> HIHIERKQPKKTEDUWKXKDIHEDOQDCQCQDGYIXK\n",
      "Key: (3, 17) -> YZYZVIBHGBBKVULNBOBUZYVUFHUTHTHUXPZOB\n",
      "Key: (3, 18) -> PQPQMZSYXSSBMLCESFSLQPMLWYLKYKYLOGQFS\n",
      "Key: (3, 19) -> GHGHDQJPOJJSDCTVJWJCHGDCNPCBPBPCFXHWJ\n",
      "Key: (3, 20) -> XYXYUHAGFAAJUTKMANATYXUTEGTSGSGTWOYNA\n",
      "Key: (3, 21) -> OPOPLYRXWRRALKBDRERKPOLKVXKJXJXKNFPER\n",
      "Key: (3, 22) -> FGFGCPIONIIRCBSUIVIBGFCBMOBAOAOBEWGVI\n",
      "Key: (3, 23) -> WXWXTGZFEZZITSJLZMZSXWTSDFSRFRFSVNXMZ\n",
      "Key: (3, 24) -> NONOKXQWVQQZKJACQDQJONKJUWJIWIWJMEODQ\n",
      "Key: (3, 25) -> EFEFBOHNMHHQBARTHUHAFEBALNAZNZNADVFUH\n",
      "Key: (5, 0) -> XIXIQDESHEEZQFKGEREFIXQFWSFUSUSFMCIRE\n",
      "Key: (5, 1) -> CNCNVIJXMJJEVKPLJWJKNCVKBXKZXZXKRHNWJ\n",
      "Key: (5, 2) -> HSHSANOCROOJAPUQOBOPSHAPGCPECECPWMSBO\n",
      "Key: (5, 3) -> MXMXFSTHWTTOFUZVTGTUXMFULHUJHJHUBRXGT\n",
      "Key: (5, 4) -> RCRCKXYMBYYTKZEAYLYZCRKZQMZOMOMZGWCLY\n",
      "Key: (5, 5) -> WHWHPCDRGDDYPEJFDQDEHWPEVRETRTRELBHQD\n",
      "Key: (5, 6) -> BMBMUHIWLIIDUJOKIVIJMBUJAWJYWYWJQGMVI\n",
      "Key: (5, 7) -> GRGRZMNBQNNIZOTPNANORGZOFBODBDBOVLRAN\n",
      "Key: (5, 8) -> LWLWERSGVSSNETYUSFSTWLETKGTIGIGTAQWFS\n",
      "Key: (5, 9) -> QBQBJWXLAXXSJYDZXKXYBQJYPLYNLNLYFVBKX\n",
      "Key: (5, 10) -> VGVGOBCQFCCXODIECPCDGVODUQDSQSQDKAGPC\n",
      "Key: (5, 11) -> ALALTGHVKHHCTINJHUHILATIZVIXVXVIPFLUH\n",
      "Key: (5, 12) -> FQFQYLMAPMMHYNSOMZMNQFYNEANCACANUKQZM\n",
      "Key: (5, 13) -> KVKVDQRFURRMDSXTRERSVKDSJFSHFHFSZPVER\n",
      "Key: (5, 14) -> PAPAIVWKZWWRIXCYWJWXAPIXOKXMKMKXEUAJW\n",
      "Key: (5, 15) -> UFUFNABPEBBWNCHDBOBCFUNCTPCRPRPCJZFOB\n",
      "Key: (5, 16) -> ZKZKSFGUJGGBSHMIGTGHKZSHYUHWUWUHOEKTG\n",
      "Key: (5, 17) -> EPEPXKLZOLLGXMRNLYLMPEXMDZMBZBZMTJPYL\n",
      "Key: (5, 18) -> JUJUCPQETQQLCRWSQDQRUJCRIERGEGERYOUDQ\n",
      "Key: (5, 19) -> OZOZHUVJYVVQHWBXVIVWZOHWNJWLJLJWDTZIV\n",
      "Key: (5, 20) -> TETEMZAODAAVMBGCANABETMBSOBQOQOBIYENA\n",
      "Key: (5, 21) -> YJYJREFTIFFARGLHFSFGJYRGXTGVTVTGNDJSF\n",
      "Key: (5, 22) -> DODOWJKYNKKFWLQMKXKLODWLCYLAYAYLSIOXK\n",
      "Key: (5, 23) -> ITITBOPDSPPKBQVRPCPQTIBQHDQFDFDQXNTCP\n",
      "Key: (5, 24) -> NYNYGTUIXUUPGVAWUHUVYNGVMIVKIKIVCSYHU\n",
      "Key: (5, 25) -> SDSDLYZNCZZULAFBZMZADSLARNAPNPNAHXDMZ\n",
      "Key: (7, 0) -> JCJCEROYFOODELWIOBOLCJELMYLSYSYLQUCBO\n",
      "Key: (7, 1) -> UNUNPCZJQZZOPWHTZMZWNUPWXJWDJDJWBFNMZ\n",
      "Key: (7, 2) -> FYFYANKUBKKZAHSEKXKHYFAHIUHOUOUHMQYXK\n",
      "Key: (7, 3) -> QJQJLYVFMVVKLSDPVIVSJQLSTFSZFZFSXBJIV\n",
      "Key: (7, 4) -> BUBUWJGQXGGVWDOAGTGDUBWDEQDKQKQDIMUTG\n",
      "Key: (7, 5) -> MFMFHURBIRRGHOZLREROFMHOPBOVBVBOTXFER\n",
      "Key: (7, 6) -> XQXQSFCMTCCRSZKWCPCZQXSZAMZGMGMZEIQPC\n",
      "Key: (7, 7) -> IBIBDQNXENNCDKVHNANKBIDKLXKRXRXKPTBAN\n",
      "Key: (7, 8) -> TMTMOBYIPYYNOVGSYLYVMTOVWIVCICIVAEMLY\n",
      "Key: (7, 9) -> EXEXZMJTAJJYZGRDJWJGXEZGHTGNTNTGLPXWJ\n",
      "Key: (7, 10) -> PIPIKXUELUUJKRCOUHURIPKRSERYEYERWAIHU\n",
      "Key: (7, 11) -> ATATVIFPWFFUVCNZFSFCTAVCDPCJPJPCHLTSF\n",
      "Key: (7, 12) -> LELEGTQAHQQFGNYKQDQNELGNOANUAUANSWEDQ\n",
      "Key: (7, 13) -> WPWPREBLSBBQRYJVBOBYPWRYZLYFLFLYDHPOB\n",
      "Key: (7, 14) -> HAHACPMWDMMBCJUGMZMJAHCJKWJQWQWJOSAZM\n",
      "Key: (7, 15) -> SLSLNAXHOXXMNUFRXKXULSNUVHUBHBHUZDLKX\n",
      "Key: (7, 16) -> DWDWYLISZIIXYFQCIVIFWDYFGSFMSMSFKOWVI\n",
      "Key: (7, 17) -> OHOHJWTDKTTIJQBNTGTQHOJQRDQXDXDQVZHGT\n",
      "Key: (7, 18) -> ZSZSUHEOVEETUBMYEREBSZUBCOBIOIOBGKSRE\n",
      "Key: (7, 19) -> KDKDFSPZGPPEFMXJPCPMDKFMNZMTZTZMRVDCP\n",
      "Key: (7, 20) -> VOVOQDAKRAAPQXIUANAXOVQXYKXEKEKXCGONA\n",
      "Key: (7, 21) -> GZGZBOLVCLLABITFLYLIZGBIJVIPVPVINRZYL\n",
      "Key: (7, 22) -> RKRKMZWGNWWLMTEQWJWTKRMTUGTAGAGTYCKJW\n",
      "Key: (7, 23) -> CVCVXKHRYHHWXEPBHUHEVCXEFRELRLREJNVUH\n",
      "Key: (7, 24) -> NGNGIVSCJSSHIPAMSFSPGNIPQCPWCWCPUYGFS\n",
      "Key: (7, 25) -> YRYRTGDNUDDSTALXDQDARYTABNAHNHNAFJRQD\n",
      "Key: (9, 0) -> HQHQGTIKBIILGXUMIVIXQHGXSKXOKOKXYEQVI\n",
      "Key: (9, 1) -> ENENDQFHYFFIDURJFSFUNEDUPHULHLHUVBNSF\n",
      "Key: (9, 2) -> BKBKANCEVCCFAROGCPCRKBARMERIEIERSYKPC\n",
      "Key: (9, 3) -> YHYHXKZBSZZCXOLDZMZOHYXOJBOFBFBOPVHMZ\n",
      "Key: (9, 4) -> VEVEUHWYPWWZULIAWJWLEVULGYLCYCYLMSEJW\n",
      "Key: (9, 5) -> SBSBRETVMTTWRIFXTGTIBSRIDVIZVZVIJPBGT\n",
      "Key: (9, 6) -> PYPYOBQSJQQTOFCUQDQFYPOFASFWSWSFGMYDQ\n",
      "Key: (9, 7) -> MVMVLYNPGNNQLCZRNANCVMLCXPCTPTPCDJVAN\n",
      "Key: (9, 8) -> JSJSIVKMDKKNIZWOKXKZSJIZUMZQMQMZAGSXK\n",
      "Key: (9, 9) -> GPGPFSHJAHHKFWTLHUHWPGFWRJWNJNJWXDPUH\n",
      "Key: (9, 10) -> DMDMCPEGXEEHCTQIERETMDCTOGTKGKGTUAMRE\n",
      "Key: (9, 11) -> AJAJZMBDUBBEZQNFBOBQJAZQLDQHDHDQRXJOB\n",
      "Key: (9, 12) -> XGXGWJYARYYBWNKCYLYNGXWNIANEAEANOUGLY\n",
      "Key: (9, 13) -> UDUDTGVXOVVYTKHZVIVKDUTKFXKBXBXKLRDIV\n",
      "Key: (9, 14) -> RARAQDSULSSVQHEWSFSHARQHCUHYUYUHIOAFS\n",
      "Key: (9, 15) -> OXOXNAPRIPPSNEBTPCPEXONEZREVRVREFLXCP\n",
      "Key: (9, 16) -> LULUKXMOFMMPKBYQMZMBULKBWOBSOSOBCIUZM\n",
      "Key: (9, 17) -> IRIRHUJLCJJMHYVNJWJYRIHYTLYPLPLYZFRWJ\n",
      "Key: (9, 18) -> FOFOERGIZGGJEVSKGTGVOFEVQIVMIMIVWCOTG\n",
      "Key: (9, 19) -> CLCLBODFWDDGBSPHDQDSLCBSNFSJFJFSTZLQD\n",
      "Key: (9, 20) -> ZIZIYLACTAADYPMEANAPIZYPKCPGCGCPQWINA\n",
      "Key: (9, 21) -> WFWFVIXZQXXAVMJBXKXMFWVMHZMDZDZMNTFKX\n",
      "Key: (9, 22) -> TCTCSFUWNUUXSJGYUHUJCTSJEWJAWAWJKQCHU\n",
      "Key: (9, 23) -> QZQZPCRTKRRUPGDVRERGZQPGBTGXTXTGHNZER\n",
      "Key: (9, 24) -> NWNWMZOQHOORMDASOBODWNMDYQDUQUQDEKWBO\n",
      "Key: (9, 25) -> KTKTJWLNELLOJAXPLYLATKJAVNARNRNABHTYL\n",
      "Key: (11, 0) -> BGBGMZQUPQQJMHOYQDQHGBMHKUHCUCUHWIGDQ\n",
      "Key: (11, 1) -> ININTGXBWXXQTOVFXKXONITORBOJBJBODPNKX\n",
      "Key: (11, 2) -> PUPUANEIDEEXAVCMEREVUPAVYIVQIQIVKWURE\n",
      "Key: (11, 3) -> WBWBHULPKLLEHCJTLYLCBWHCFPCXPXPCRDBYL\n",
      "Key: (11, 4) -> DIDIOBSWRSSLOJQASFSJIDOJMWJEWEWJYKIFS\n",
      "Key: (11, 5) -> KPKPVIZDYZZSVQXHZMZQPKVQTDQLDLDQFRPMZ\n",
      "Key: (11, 6) -> RWRWCPGKFGGZCXEOGTGXWRCXAKXSKSKXMYWTG\n",
      "Key: (11, 7) -> YDYDJWNRMNNGJELVNANEDYJEHREZRZRETFDAN\n",
      "Key: (11, 8) -> FKFKQDUYTUUNQLSCUHULKFQLOYLGYGYLAMKHU\n",
      "Key: (11, 9) -> MRMRXKBFABBUXSZJBOBSRMXSVFSNFNFSHTROB\n",
      "Key: (11, 10) -> TYTYERIMHIIBEZGQIVIZYTEZCMZUMUMZOAYVI\n",
      "Key: (11, 11) -> AFAFLYPTOPPILGNXPCPGFALGJTGBTBTGVHFCP\n",
      "Key: (11, 12) -> HMHMSFWAVWWPSNUEWJWNMHSNQANIAIANCOMJW\n",
      "Key: (11, 13) -> OTOTZMDHCDDWZUBLDQDUTOZUXHUPHPHUJVTQD\n",
      "Key: (11, 14) -> VAVAGTKOJKKDGBISKXKBAVGBEOBWOWOBQCAXK\n",
      "Key: (11, 15) -> CHCHNARVQRRKNIPZRERIHCNILVIDVDVIXJHER\n",
      "Key: (11, 16) -> JOJOUHYCXYYRUPWGYLYPOJUPSCPKCKCPEQOLY\n",
      "Key: (11, 17) -> QVQVBOFJEFFYBWDNFSFWVQBWZJWRJRJWLXVSF\n",
      "Key: (11, 18) -> XCXCIVMQLMMFIDKUMZMDCXIDGQDYQYQDSECZM\n",
      "Key: (11, 19) -> EJEJPCTXSTTMPKRBTGTKJEPKNXKFXFXKZLJGT\n",
      "Key: (11, 20) -> LQLQWJAEZAATWRYIANARQLWRUERMEMERGSQNA\n",
      "Key: (11, 21) -> SXSXDQHLGHHADYFPHUHYXSDYBLYTLTLYNZXUH\n",
      "Key: (11, 22) -> ZEZEKXOSNOOHKFMWOBOFEZKFISFASASFUGEBO\n",
      "Key: (11, 23) -> GLGLREVZUVVORMTDVIVMLGRMPZMHZHZMBNLIV\n",
      "Key: (11, 24) -> NSNSYLCGBCCVYTAKCPCTSNYTWGTOGOGTIUSPC\n",
      "Key: (11, 25) -> UZUZFSJNIJJCFAHRJWJAZUFADNAVNVNAPBZWJ\n",
      "Key: (15, 0) -> ZUZUOBKGLKKROTMCKXKTUZOTQGTYGYGTESUXK\n",
      "Key: (15, 1) -> SNSNHUDZEDDKHMFVDQDMNSHMJZMRZRZMXLNQD\n",
      "Key: (15, 2) -> LGLGANWSXWWDAFYOWJWFGLAFCSFKSKSFQEGJW\n",
      "Key: (15, 3) -> EZEZTGPLQPPWTYRHPCPYZETYVLYDLDLYJXZCP\n",
      "Key: (15, 4) -> XSXSMZIEJIIPMRKAIVIRSXMROERWEWERCQSVI\n",
      "Key: (15, 5) -> QLQLFSBXCBBIFKDTBOBKLQFKHXKPXPXKVJLOB\n",
      "Key: (15, 6) -> JEJEYLUQVUUBYDWMUHUDEJYDAQDIQIQDOCEHU\n",
      "Key: (15, 7) -> CXCXRENJONNURWPFNANWXCRWTJWBJBJWHVXAN\n",
      "Key: (15, 8) -> VQVQKXGCHGGNKPIYGTGPQVKPMCPUCUCPAOQTG\n",
      "Key: (15, 9) -> OJOJDQZVAZZGDIBRZMZIJODIFVINVNVITHJMZ\n",
      "Key: (15, 10) -> HCHCWJSOTSSZWBUKSFSBCHWBYOBGOGOBMACFS\n",
      "Key: (15, 11) -> AVAVPCLHMLLSPUNDLYLUVAPURHUZHZHUFTVYL\n",
      "Key: (15, 12) -> TOTOIVEAFEELINGWERENOTINKANSASANYMORE\n",
      "Key: (15, 13) -> MHMHBOXTYXXEBGZPXKXGHMBGDTGLTLTGRFHKX\n",
      "Key: (15, 14) -> FAFAUHQMRQQXUZSIQDQZAFUZWMZEMEMZKYADQ\n",
      "Key: (15, 15) -> YTYTNAJFKJJQNSLBJWJSTYNSPFSXFXFSDRTWJ\n",
      "Key: (15, 16) -> RMRMGTCYDCCJGLEUCPCLMRGLIYLQYQYLWKMPC\n",
      "Key: (15, 17) -> KFKFZMVRWVVCZEXNVIVEFKZEBREJRJREPDFIV\n",
      "Key: (15, 18) -> DYDYSFOKPOOVSXQGOBOXYDSXUKXCKCKXIWYBO\n",
      "Key: (15, 19) -> WRWRLYHDIHHOLQJZHUHQRWLQNDQVDVDQBPRUH\n",
      "Key: (15, 20) -> PKPKERAWBAAHEJCSANAJKPEJGWJOWOWJUIKNA\n",
      "Key: (15, 21) -> IDIDXKTPUTTAXCVLTGTCDIXCZPCHPHPCNBDGT\n",
      "Key: (15, 22) -> BWBWQDMINMMTQVOEMZMVWBQVSIVAIAIVGUWZM\n",
      "Key: (15, 23) -> UPUPJWFBGFFMJOHXFSFOPUJOLBOTBTBOZNPSF\n",
      "Key: (15, 24) -> NINICPYUZYYFCHAQYLYHINCHEUHMUMUHSGILY\n",
      "Key: (15, 25) -> GBGBVIRNSRRYVATJRERABGVAXNAFNFNALZBER\n",
      "Key: (17, 0) -> TKTKUHSQZSSPUDGOSFSDKTUDIQDMQMQDCWKFS\n",
      "Key: (17, 1) -> WNWNXKVTCVVSXGJRVIVGNWXGLTGPTPTGFZNIV\n",
      "Key: (17, 2) -> ZQZQANYWFYYVAJMUYLYJQZAJOWJSWSWJICQLY\n",
      "Key: (17, 3) -> CTCTDQBZIBBYDMPXBOBMTCDMRZMVZVZMLFTOB\n",
      "Key: (17, 4) -> FWFWGTECLEEBGPSAEREPWFGPUCPYCYCPOIWRE\n",
      "Key: (17, 5) -> IZIZJWHFOHHEJSVDHUHSZIJSXFSBFBFSRLZUH\n",
      "Key: (17, 6) -> LCLCMZKIRKKHMVYGKXKVCLMVAIVEIEIVUOCXK\n",
      "Key: (17, 7) -> OFOFPCNLUNNKPYBJNANYFOPYDLYHLHLYXRFAN\n",
      "Key: (17, 8) -> RIRISFQOXQQNSBEMQDQBIRSBGOBKOKOBAUIDQ\n",
      "Key: (17, 9) -> ULULVITRATTQVEHPTGTELUVEJRENRNREDXLGT\n",
      "Key: (17, 10) -> XOXOYLWUDWWTYHKSWJWHOXYHMUHQUQUHGAOJW\n",
      "Key: (17, 11) -> ARARBOZXGZZWBKNVZMZKRABKPXKTXTXKJDRMZ\n",
      "Key: (17, 12) -> DUDUERCAJCCZENQYCPCNUDENSANWAWANMGUPC\n",
      "Key: (17, 13) -> GXGXHUFDMFFCHQTBFSFQXGHQVDQZDZDQPJXSF\n",
      "Key: (17, 14) -> JAJAKXIGPIIFKTWEIVITAJKTYGTCGCGTSMAVI\n",
      "Key: (17, 15) -> MDMDNALJSLLINWZHLYLWDMNWBJWFJFJWVPDYL\n",
      "Key: (17, 16) -> PGPGQDOMVOOLQZCKOBOZGPQZEMZIMIMZYSGBO\n",
      "Key: (17, 17) -> SJSJTGRPYRROTCFNRERCJSTCHPCLPLPCBVJER\n",
      "Key: (17, 18) -> VMVMWJUSBUURWFIQUHUFMVWFKSFOSOSFEYMHU\n",
      "Key: (17, 19) -> YPYPZMXVEXXUZILTXKXIPYZINVIRVRVIHBPKX\n",
      "Key: (17, 20) -> BSBSCPAYHAAXCLOWANALSBCLQYLUYUYLKESNA\n",
      "Key: (17, 21) -> EVEVFSDBKDDAFORZDQDOVEFOTBOXBXBONHVQD\n",
      "Key: (17, 22) -> HYHYIVGENGGDIRUCGTGRYHIRWERAEAERQKYTG\n",
      "Key: (17, 23) -> KBKBLYJHQJJGLUXFJWJUBKLUZHUDHDHUTNBWJ\n",
      "Key: (17, 24) -> NENEOBMKTMMJOXAIMZMXENOXCKXGKGKXWQEZM\n",
      "Key: (17, 25) -> QHQHREPNWPPMRADLPCPAHQRAFNAJNJNAZTHCP\n",
      "Key: (19, 0) -> RYRYWJMCVMMXWPESMZMPYRWPOCPICICPKGYZM\n",
      "Key: (19, 1) -> GNGNLYBRKBBMLETHBOBENGLEDREXRXREZVNOB\n",
      "Key: (19, 2) -> VCVCANQGZQQBATIWQDQTCVATSGTMGMGTOKCDQ\n",
      "Key: (19, 3) -> KRKRPCFVOFFQPIXLFSFIRKPIHVIBVBVIDZRSF\n",
      "Key: (19, 4) -> ZGZGERUKDUUFEXMAUHUXGZEXWKXQKQKXSOGHU\n",
      "Key: (19, 5) -> OVOVTGJZSJJUTMBPJWJMVOTMLZMFZFZMHDVWJ\n",
      "Key: (19, 6) -> DKDKIVYOHYYJIBQEYLYBKDIBAOBUOUOBWSKLY\n",
      "Key: (19, 7) -> SZSZXKNDWNNYXQFTNANQZSXQPDQJDJDQLHZAN\n",
      "Key: (19, 8) -> HOHOMZCSLCCNMFUICPCFOHMFESFYSYSFAWOPC\n",
      "Key: (19, 9) -> WDWDBORHARRCBUJXRERUDWBUTHUNHNHUPLDER\n",
      "Key: (19, 10) -> LSLSQDGWPGGRQJYMGTGJSLQJIWJCWCWJEASTG\n",
      "Key: (19, 11) -> AHAHFSVLEVVGFYNBVIVYHAFYXLYRLRLYTPHIV\n",
      "Key: (19, 12) -> PWPWUHKATKKVUNCQKXKNWPUNMANGAGANIEWXK\n",
      "Key: (19, 13) -> ELELJWZPIZZKJCRFZMZCLEJCBPCVPVPCXTLMZ\n",
      "Key: (19, 14) -> TATAYLOEXOOZYRGUOBORATYRQERKEKERMIABO\n",
      "Key: (19, 15) -> IPIPNADTMDDONGVJDQDGPINGFTGZTZTGBXPQD\n",
      "Key: (19, 16) -> XEXECPSIBSSDCVKYSFSVEXCVUIVOIOIVQMEFS\n",
      "Key: (19, 17) -> MTMTREHXQHHSRKZNHUHKTMRKJXKDXDXKFBTUH\n",
      "Key: (19, 18) -> BIBIGTWMFWWHGZOCWJWZIBGZYMZSMSMZUQIJW\n",
      "Key: (19, 19) -> QXQXVILBULLWVODRLYLOXQVONBOHBHBOJFXYL\n",
      "Key: (19, 20) -> FMFMKXAQJAALKDSGANADMFKDCQDWQWQDYUMNA\n",
      "Key: (19, 21) -> UBUBZMPFYPPAZSHVPCPSBUZSRFSLFLFSNJBCP\n",
      "Key: (19, 22) -> JQJQOBEUNEEPOHWKEREHQJOHGUHAUAUHCYQRE\n",
      "Key: (19, 23) -> YFYFDQTJCTTEDWLZTGTWFYDWVJWPJPJWRNFGT\n",
      "Key: (19, 24) -> NUNUSFIYRIITSLAOIVILUNSLKYLEYEYLGCUVI\n",
      "Key: (19, 25) -> CJCJHUXNGXXIHAPDXKXAJCHAZNATNTNAVRJKX\n",
      "Key: (21, 0) -> DSDSKXWITWWBKVQUWJWVSDKVEIVGIGIVOYSJW\n",
      "Key: (21, 1) -> YNYNFSRDORRWFQLPRERQNYFQZDQBDBDQJTNER\n",
      "Key: (21, 2) -> TITIANMYJMMRALGKMZMLITALUYLWYWYLEOIZM\n",
      "Key: (21, 3) -> ODODVIHTEHHMVGBFHUHGDOVGPTGRTRTGZJDUH\n",
      "Key: (21, 4) -> JYJYQDCOZCCHQBWACPCBYJQBKOBMOMOBUEYPC\n",
      "Key: (21, 5) -> ETETLYXJUXXCLWRVXKXWTELWFJWHJHJWPZTKX\n",
      "Key: (21, 6) -> ZOZOGTSEPSSXGRMQSFSROZGRAERCECERKUOFS\n",
      "Key: (21, 7) -> UJUJBONZKNNSBMHLNANMJUBMVZMXZXZMFPJAN\n",
      "Key: (21, 8) -> PEPEWJIUFIINWHCGIVIHEPWHQUHSUSUHAKEVI\n",
      "Key: (21, 9) -> KZKZREDPADDIRCXBDQDCZKRCLPCNPNPCVFZQD\n",
      "Key: (21, 10) -> FUFUMZYKVYYDMXSWYLYXUFMXGKXIKIKXQAULY\n",
      "Key: (21, 11) -> APAPHUTFQTTYHSNRTGTSPAHSBFSDFDFSLVPGT\n",
      "Key: (21, 12) -> VKVKCPOALOOTCNIMOBONKVCNWANYAYANGQKBO\n",
      "Key: (21, 13) -> QFQFXKJVGJJOXIDHJWJIFQXIRVITVTVIBLFWJ\n",
      "Key: (21, 14) -> LALASFEQBEEJSDYCEREDALSDMQDOQOQDWGARE\n",
      "Key: (21, 15) -> GVGVNAZLWZZENYTXZMZYVGNYHLYJLJLYRBVMZ\n",
      "Key: (21, 16) -> BQBQIVUGRUUZITOSUHUTQBITCGTEGEGTMWQHU\n",
      "Key: (21, 17) -> WLWLDQPBMPPUDOJNPCPOLWDOXBOZBZBOHRLCP\n",
      "Key: (21, 18) -> RGRGYLKWHKKPYJEIKXKJGRYJSWJUWUWJCMGXK\n",
      "Key: (21, 19) -> MBMBTGFRCFFKTEZDFSFEBMTENREPRPREXHBSF\n",
      "Key: (21, 20) -> HWHWOBAMXAAFOZUYANAZWHOZIMZKMKMZSCWNA\n",
      "Key: (21, 21) -> CRCRJWVHSVVAJUPTVIVURCJUDHUFHFHUNXRIV\n",
      "Key: (21, 22) -> XMXMERQCNQQVEPKOQDQPMXEPYCPACACPISMDQ\n",
      "Key: (21, 23) -> SHSHZMLXILLQZKFJLYLKHSZKTXKVXVXKDNHYL\n",
      "Key: (21, 24) -> NCNCUHGSDGGLUFAEGTGFCNUFOSFQSQSFYICTG\n",
      "Key: (21, 25) -> IXIXPCBNYBBGPAVZBOBAXIPAJNALNLNATDXOB\n",
      "Key: (23, 0) -> FEFEIVCWXCCTIJSQCPCJEFIJYWJKWKWJGOEPC\n",
      "Key: (23, 1) -> ONONRELFGLLCRSBZLYLSNORSHFSTFTFSPXNYL\n",
      "Key: (23, 2) -> XWXWANUOPUULABKIUHUBWXABQOBCOCOBYGWHU\n",
      "Key: (23, 3) -> GFGFJWDXYDDUJKTRDQDKFGJKZXKLXLXKHPFQD\n",
      "Key: (23, 4) -> POPOSFMGHMMDSTCAMZMTOPSTIGTUGUGTQYOZM\n",
      "Key: (23, 5) -> YXYXBOVPQVVMBCLJVIVCXYBCRPCDPDPCZHXIV\n",
      "Key: (23, 6) -> HGHGKXEYZEEVKLUSERELGHKLAYLMYMYLIQGRE\n",
      "Key: (23, 7) -> QPQPTGNHINNETUDBNANUPQTUJHUVHVHURZPAN\n",
      "Key: (23, 8) -> ZYZYCPWQRWWNCDMKWJWDYZCDSQDEQEQDAIYJW\n",
      "Key: (23, 9) -> IHIHLYFZAFFWLMVTFSFMHILMBZMNZNZMJRHSF\n",
      "Key: (23, 10) -> RQRQUHOIJOOFUVECOBOVQRUVKIVWIWIVSAQBO\n",
      "Key: (23, 11) -> AZAZDQXRSXXODENLXKXEZADETREFRFREBJZKX\n",
      "Key: (23, 12) -> JIJIMZGABGGXMNWUGTGNIJMNCANOAOANKSITG\n",
      "Key: (23, 13) -> SRSRVIPJKPPGVWFDPCPWRSVWLJWXJXJWTBRCP\n",
      "Key: (23, 14) -> BABAERYSTYYPEFOMYLYFABEFUSFGSGSFCKALY\n",
      "Key: (23, 15) -> KJKJNAHBCHHYNOXVHUHOJKNODBOPBPBOLTJUH\n",
      "Key: (23, 16) -> TSTSWJQKLQQHWXGEQDQXSTWXMKXYKYKXUCSDQ\n",
      "Key: (23, 17) -> CBCBFSZTUZZQFGPNZMZGBCFGVTGHTHTGDLBMZ\n",
      "Key: (23, 18) -> LKLKOBICDIIZOPYWIVIPKLOPECPQCQCPMUKVI\n",
      "Key: (23, 19) -> UTUTXKRLMRRIXYHFRERYTUXYNLYZLZLYVDTER\n",
      "Key: (23, 20) -> DCDCGTAUVAARGHQOANAHCDGHWUHIUIUHEMCNA\n",
      "Key: (23, 21) -> MLMLPCJDEJJAPQZXJWJQLMPQFDQRDRDQNVLWJ\n",
      "Key: (23, 22) -> VUVUYLSMNSSJYZIGSFSZUVYZOMZAMAMZWEUFS\n",
      "Key: (23, 23) -> EDEDHUBVWBBSHIRPBOBIDEHIXVIJVJVIFNDOB\n",
      "Key: (23, 24) -> NMNMQDKEFKKBQRAYKXKRMNQRGERSESEROWMXK\n",
      "Key: (23, 25) -> WVWVZMTNOTTKZAJHTGTAVWZAPNABNBNAXFVGT\n",
      "Key: (25, 0) -> PMPMYLGORGGFYBCWGTGBMPYBUOBEOEOBSQMTG\n",
      "Key: (25, 1) -> QNQNZMHPSHHGZCDXHUHCNQZCVPCFPFPCTRNUH\n",
      "Key: (25, 2) -> ROROANIQTIIHADEYIVIDORADWQDGQGQDUSOVI\n",
      "Key: (25, 3) -> SPSPBOJRUJJIBEFZJWJEPSBEXREHRHREVTPWJ\n",
      "Key: (25, 4) -> TQTQCPKSVKKJCFGAKXKFQTCFYSFISISFWUQXK\n",
      "Key: (25, 5) -> URURDQLTWLLKDGHBLYLGRUDGZTGJTJTGXVRYL\n",
      "Key: (25, 6) -> VSVSERMUXMMLEHICMZMHSVEHAUHKUKUHYWSZM\n",
      "Key: (25, 7) -> WTWTFSNVYNNMFIJDNANITWFIBVILVLVIZXTAN\n",
      "Key: (25, 8) -> XUXUGTOWZOONGJKEOBOJUXGJCWJMWMWJAYUBO\n",
      "Key: (25, 9) -> YVYVHUPXAPPOHKLFPCPKVYHKDXKNXNXKBZVCP\n",
      "Key: (25, 10) -> ZWZWIVQYBQQPILMGQDQLWZILEYLOYOYLCAWDQ\n",
      "Key: (25, 11) -> AXAXJWRZCRRQJMNHRERMXAJMFZMPZPZMDBXER\n",
      "Key: (25, 12) -> BYBYKXSADSSRKNOISFSNYBKNGANQAQANECYFS\n",
      "Key: (25, 13) -> CZCZLYTBETTSLOPJTGTOZCLOHBORBRBOFDZGT\n",
      "Key: (25, 14) -> DADAMZUCFUUTMPQKUHUPADMPICPSCSCPGEAHU\n",
      "Key: (25, 15) -> EBEBNAVDGVVUNQRLVIVQBENQJDQTDTDQHFBIV\n",
      "Key: (25, 16) -> FCFCOBWEHWWVORSMWJWRCFORKERUEUERIGCJW\n",
      "Key: (25, 17) -> GDGDPCXFIXXWPSTNXKXSDGPSLFSVFVFSJHDKX\n",
      "Key: (25, 18) -> HEHEQDYGJYYXQTUOYLYTEHQTMGTWGWGTKIELY\n",
      "Key: (25, 19) -> IFIFREZHKZZYRUVPZMZUFIRUNHUXHXHULJFMZ\n",
      "Key: (25, 20) -> JGJGSFAILAAZSVWQANAVGJSVOIVYIYIVMKGNA\n",
      "Key: (25, 21) -> KHKHTGBJMBBATWXRBOBWHKTWPJWZJZJWNLHOB\n",
      "Key: (25, 22) -> LILIUHCKNCCBUXYSCPCXILUXQKXAKAKXOMIPC\n",
      "Key: (25, 23) -> MJMJVIDLODDCVYZTDQDYJMVYRLYBLBLYPNJQD\n",
      "Key: (25, 24) -> NKNKWJEMPEEDWZAUEREZKNWZSMZCMCMZQOKRE\n",
      "Key: (25, 25) -> OLOLXKFNQFFEXABVFSFALOXATNADNDNARPLSF\n"
     ]
    }
   ],
   "source": [
    "for k1, k2, decrypted in possible_original_plaintexts:\n",
    "    print(f\"Key: ({k1}, {k2}) -> {decrypted}\")"
   ]
  },
  {
   "cell_type": "code",
   "execution_count": 87,
   "metadata": {},
   "outputs": [
    {
     "data": {
      "text/plain": [
       "'TOTOIVEAFEELINGWERENOTINKANSASANYMORE'"
      ]
     },
     "execution_count": 87,
     "metadata": {},
     "output_type": "execute_result"
    }
   ],
   "source": [
    "affine_decrypt(\"lolocpumjuuvczyeuhuzolczgmzwmwmzikohu\", 15, 12, p= 26)"
   ]
  },
  {
   "cell_type": "code",
   "execution_count": 88,
   "metadata": {},
   "outputs": [
    {
     "data": {
      "text/plain": [
       "312"
      ]
     },
     "execution_count": 88,
     "metadata": {},
     "output_type": "execute_result"
    }
   ],
   "source": [
    "len(possible_original_plaintexts)"
   ]
  }
 ],
 "metadata": {
  "kernelspec": {
   "display_name": "Python 3",
   "language": "python",
   "name": "python3"
  },
  "language_info": {
   "codemirror_mode": {
    "name": "ipython",
    "version": 3
   },
   "file_extension": ".py",
   "mimetype": "text/x-python",
   "name": "python",
   "nbconvert_exporter": "python",
   "pygments_lexer": "ipython3",
   "version": "3.12.4"
  }
 },
 "nbformat": 4,
 "nbformat_minor": 2
}
