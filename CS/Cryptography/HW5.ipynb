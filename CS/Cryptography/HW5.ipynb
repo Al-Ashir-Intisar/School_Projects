{
  "nbformat": 4,
  "nbformat_minor": 0,
  "metadata": {
    "colab": {
      "provenance": [],
      "authorship_tag": "ABX9TyO7zbCo8y1PkdS7UGaQ2Gg4"
    },
    "kernelspec": {
      "name": "python3",
      "display_name": "Python 3"
    },
    "language_info": {
      "name": "python"
    }
  },
  "cells": [
    {
      "cell_type": "code",
      "execution_count": null,
      "metadata": {
        "colab": {
          "base_uri": "https://localhost:8080/"
        },
        "collapsed": true,
        "id": "BRkh-lVMWQIa",
        "outputId": "59d083cb-33e6-4298-c9dd-72ed5decda08"
      },
      "outputs": [
        {
          "output_type": "stream",
          "name": "stdout",
          "text": [
            "Collecting gmpy2\n",
            "  Downloading gmpy2-2.2.1-cp311-cp311-manylinux_2_17_x86_64.manylinux2014_x86_64.whl.metadata (2.8 kB)\n",
            "Downloading gmpy2-2.2.1-cp311-cp311-manylinux_2_17_x86_64.manylinux2014_x86_64.whl (1.7 MB)\n",
            "\u001b[?25l   \u001b[90m━━━━━━━━━━━━━━━━━━━━━━━━━━━━━━━━━━━━━━━━\u001b[0m \u001b[32m0.0/1.7 MB\u001b[0m \u001b[31m?\u001b[0m eta \u001b[36m-:--:--\u001b[0m\r\u001b[2K   \u001b[91m━━━━━━━━━━━━━━━━━━━━━━━━━━━━━━━━━━━━━━━\u001b[0m\u001b[91m╸\u001b[0m \u001b[32m1.7/1.7 MB\u001b[0m \u001b[31m75.3 MB/s\u001b[0m eta \u001b[36m0:00:01\u001b[0m\r\u001b[2K   \u001b[90m━━━━━━━━━━━━━━━━━━━━━━━━━━━━━━━━━━━━━━━━\u001b[0m \u001b[32m1.7/1.7 MB\u001b[0m \u001b[31m40.2 MB/s\u001b[0m eta \u001b[36m0:00:00\u001b[0m\n",
            "\u001b[?25hInstalling collected packages: gmpy2\n",
            "Successfully installed gmpy2-2.2.1\n"
          ]
        }
      ],
      "source": [
        "!pip install gmpy2\n",
        "\n",
        "import gmpy2\n"
      ]
    },
    {
      "cell_type": "code",
      "source": [
        "# calculating the cipher text\n",
        "N = 2038667\n",
        "e = 103\n",
        "m = 892383\n",
        "c = pow(m,e,N)\n",
        "print(\"cipher text =\", c)"
      ],
      "metadata": {
        "colab": {
          "base_uri": "https://localhost:8080/"
        },
        "id": "vjFjU2pwW5Oo",
        "outputId": "ed6a0562-905c-4b3a-8779-2a9d3891aa69"
      },
      "execution_count": null,
      "outputs": [
        {
          "output_type": "stream",
          "name": "stdout",
          "text": [
            "cipher text = 45293\n"
          ]
        }
      ]
    },
    {
      "cell_type": "code",
      "source": [
        "# test\n",
        "N = 2038667\n",
        "e = 103\n",
        "m = 892383\n",
        "c = pow(m,e,N)\n",
        "print(\"cipher text =\", c)\n",
        "d = 810367\n",
        "m_prime = pow(c,d,N)\n",
        "print(\"plaintext =\", m_prime)"
      ],
      "metadata": {
        "colab": {
          "base_uri": "https://localhost:8080/"
        },
        "id": "UCucG52hdRhC",
        "outputId": "3e3efcf7-9cf8-4520-b51a-74ae22955140"
      },
      "execution_count": null,
      "outputs": [
        {
          "output_type": "stream",
          "name": "stdout",
          "text": [
            "cipher text = 45293\n",
            "plaintext = 892383\n"
          ]
        }
      ]
    },
    {
      "cell_type": "code",
      "source": [
        "# calculating the cipher text\n",
        "N = 2038667\n",
        "e = 103\n",
        "m = 892383\n",
        "p = 1301\n",
        "q = int(N / p)\n",
        "print(\"q = \", q)"
      ],
      "metadata": {
        "colab": {
          "base_uri": "https://localhost:8080/"
        },
        "id": "Qcvb4HgnYn_n",
        "outputId": "9b0b24f0-b7cb-4974-df76-67a7e5c90a28"
      },
      "execution_count": null,
      "outputs": [
        {
          "output_type": "stream",
          "name": "stdout",
          "text": [
            "q =  1567\n"
          ]
        }
      ]
    },
    {
      "cell_type": "code",
      "source": [
        "N = 2038667\n",
        "e = 103\n",
        "m = 892383\n",
        "p = 1301\n",
        "q = int(N / p)\n",
        "\n",
        "modulus = int((p-1) * (q-1))\n",
        "print(\"modulus =\", modulus)\n",
        "\n",
        "# Use gmpy2 to find the modular inverse\n",
        "d = int(gmpy2.invert(e, modulus))\n",
        "\n",
        "print(\"d =\", d)\n"
      ],
      "metadata": {
        "colab": {
          "base_uri": "https://localhost:8080/"
        },
        "id": "kEywMwQkZbbu",
        "outputId": "a2a963fd-d105-4252-e669-8c2c876126f9"
      },
      "execution_count": null,
      "outputs": [
        {
          "output_type": "stream",
          "name": "stdout",
          "text": [
            "modulus = 2035800\n",
            "d = 810367\n"
          ]
        }
      ]
    },
    {
      "cell_type": "code",
      "source": [
        "# checking if value of d is correct\n",
        "(e * d) % modulus"
      ],
      "metadata": {
        "colab": {
          "base_uri": "https://localhost:8080/"
        },
        "id": "SOEv3L9Bby5d",
        "outputId": "c7c117db-1c30-456e-cdfa-be8f6709da5c"
      },
      "execution_count": null,
      "outputs": [
        {
          "output_type": "execute_result",
          "data": {
            "text/plain": [
              "1"
            ]
          },
          "metadata": {},
          "execution_count": 20
        }
      ]
    },
    {
      "cell_type": "code",
      "source": [
        "# finding the plaintext\n",
        "d = 810367\n",
        "N = 2038667\n",
        "c = 317730\n",
        "m_prime = pow(c,d,N)\n",
        "print(\"plaintext =\", m_prime)"
      ],
      "metadata": {
        "colab": {
          "base_uri": "https://localhost:8080/"
        },
        "id": "OmxDwlC6b65K",
        "outputId": "5b5cc4f6-da61-4fd3-bee9-e560d5851d63"
      },
      "execution_count": null,
      "outputs": [
        {
          "output_type": "stream",
          "name": "stdout",
          "text": [
            "plaintext = 514407\n"
          ]
        }
      ]
    },
    {
      "cell_type": "code",
      "source": [
        "def extended_gcd(a, b):\n",
        "  \"\"\"\n",
        "  Extended Euclidean Algorithm to find gcd(a, b) and coefficients u, v such that\n",
        "  gcd(a, b) = u*a + v*b.\n",
        "  \"\"\"\n",
        "  if a == 0:\n",
        "    return (b, 0, 1)\n",
        "  d, u1, v1 = extended_gcd(b % a, a)\n",
        "  u = v1 - (b // a) * u1\n",
        "  v = u1\n",
        "  return (d, u, v)\n",
        "\n",
        "e1 = 1021763679\n",
        "e2 = 519424709\n",
        "\n",
        "gcd, u, v = extended_gcd(e1, e2)\n",
        "\n",
        "print(f\"gcd({e1}, {e2}) = {gcd}\")\n",
        "print(f\"u = {u}, v = {v}\")\n",
        "print(f\"Verification: {u * e1 + v * e2} = {gcd}\")\n"
      ],
      "metadata": {
        "colab": {
          "base_uri": "https://localhost:8080/"
        },
        "id": "0E7_4xQ7qYwx",
        "outputId": "65a7eb39-bf1a-4af7-ce59-18c61edecd39"
      },
      "execution_count": null,
      "outputs": [
        {
          "output_type": "stream",
          "name": "stdout",
          "text": [
            "gcd(1021763679, 519424709) = 1\n",
            "u = 252426389, v = -496549570\n",
            "Verification: 1 = 1\n"
          ]
        }
      ]
    },
    {
      "cell_type": "code",
      "source": [
        "# given\n",
        "N = 1889570071\n",
        "e1 = 1021763679\n",
        "e2 = 519424709\n",
        "u = 252426389\n",
        "v = -496549570\n",
        "c1 = 1244183534\n",
        "c2 = 732959706 - 1\n",
        "c1u = pow(c1,u,N)\n",
        "c2v = pow(c2,v,N)\n",
        "m = (c1u * c2v) % N\n",
        "print(\"plaintext =\", m)\n",
        "\n"
      ],
      "metadata": {
        "colab": {
          "base_uri": "https://localhost:8080/"
        },
        "id": "7VvPeCNQrV_3",
        "outputId": "dda4342b-06d6-4b88-a226-21d474b932c2"
      },
      "execution_count": null,
      "outputs": [
        {
          "output_type": "stream",
          "name": "stdout",
          "text": [
            "plaintext = 790884642\n"
          ]
        }
      ]
    },
    {
      "cell_type": "code",
      "source": [
        "import random\n",
        "\n",
        "n = 294409\n",
        "seed = 123456789\n",
        "random.seed(seed)\n",
        "random_integers = random.sample(range(1, n - 1), 10)\n",
        "random_integers\n"
      ],
      "metadata": {
        "colab": {
          "base_uri": "https://localhost:8080/"
        },
        "id": "94npHGDzTkt3",
        "outputId": "23e9693d-253f-4b9a-f69c-96b78f117cd5"
      },
      "execution_count": null,
      "outputs": [
        {
          "output_type": "execute_result",
          "data": {
            "text/plain": [
              "[231876,\n",
              " 284264,\n",
              " 208234,\n",
              " 159315,\n",
              " 244679,\n",
              " 208201,\n",
              " 280457,\n",
              " 184039,\n",
              " 209508,\n",
              " 231184]"
            ]
          },
          "metadata": {},
          "execution_count": 28
        }
      ]
    },
    {
      "cell_type": "code",
      "source": [
        "n = 294409\n",
        "k = 0\n",
        "temp_n = n - 1\n",
        "while temp_n % 2 == 0:\n",
        "  temp_n //= 2\n",
        "  k += 1\n",
        "\n",
        "q = temp_n\n",
        "print(f\"{n-1} = (2^{k}) * {q}\")\n",
        "(2**k)*q == n-1"
      ],
      "metadata": {
        "colab": {
          "base_uri": "https://localhost:8080/"
        },
        "id": "otGslLdeTz7I",
        "outputId": "3ebea14d-7ef9-4d3d-bf29-648ab276a909"
      },
      "execution_count": null,
      "outputs": [
        {
          "output_type": "stream",
          "name": "stdout",
          "text": [
            "294408 = (2^3) * 36801\n"
          ]
        },
        {
          "output_type": "execute_result",
          "data": {
            "text/plain": [
              "True"
            ]
          },
          "metadata": {},
          "execution_count": 32
        }
      ]
    },
    {
      "cell_type": "code",
      "source": [
        "n = 294409\n",
        "q = 36801\n",
        "a = random_integers[0]\n",
        "pow(a,q,n)"
      ],
      "metadata": {
        "colab": {
          "base_uri": "https://localhost:8080/"
        },
        "id": "-I_A2TyMXbMl",
        "outputId": "52418028-513c-4ccd-9a23-edd119bb86d9"
      },
      "execution_count": null,
      "outputs": [
        {
          "output_type": "execute_result",
          "data": {
            "text/plain": [
              "243757"
            ]
          },
          "metadata": {},
          "execution_count": 33
        }
      ]
    },
    {
      "cell_type": "code",
      "source": [
        "n = 294409\n",
        "for a in random_integers:\n",
        "  gcd_result = gmpy2.gcd(a, n)\n",
        "  print(f\"gcd({a}, {n}) = {gcd_result}\")\n"
      ],
      "metadata": {
        "colab": {
          "base_uri": "https://localhost:8080/"
        },
        "id": "m-I3XzSL4oVs",
        "outputId": "2d510854-2349-4bd0-88ff-13b183bd97ec"
      },
      "execution_count": null,
      "outputs": [
        {
          "output_type": "stream",
          "name": "stdout",
          "text": [
            "gcd(231876, 294409) = 1\n",
            "gcd(284264, 294409) = 1\n",
            "gcd(208234, 294409) = 1\n",
            "gcd(159315, 294409) = 1\n",
            "gcd(244679, 294409) = 1\n",
            "gcd(208201, 294409) = 1\n",
            "gcd(280457, 294409) = 109\n",
            "gcd(184039, 294409) = 1\n",
            "gcd(209508, 294409) = 1\n",
            "gcd(231184, 294409) = 1\n"
          ]
        }
      ]
    },
    {
      "cell_type": "code",
      "source": [
        "\n",
        "\n",
        "n = 294409\n",
        "k = 3\n",
        "q = 36801\n",
        "\n",
        "print(f\"{n-1} = (2^{k}) * {q}\")\n",
        "(2**k)*q == n-1\n",
        "a = random_integers[2]\n",
        "print(\"a = \", a)\n",
        "a = pow(a,q,n)\n",
        "print(\"a^q = \", a)\n",
        "\n",
        "for i in range(k):\n",
        "  temp = a % n\n",
        "  if (temp) == (n - 1):\n",
        "    print(f\"Test Fails. n^q{i*2} = {temp}\")\n",
        "    break\n",
        "  print(f\"Values. n^q{i*2} = {temp}\")\n",
        "  a = pow(a, 2, n)\n",
        "\n"
      ],
      "metadata": {
        "colab": {
          "base_uri": "https://localhost:8080/"
        },
        "id": "fDbi4asRYCgl",
        "outputId": "b3a202bd-53f3-4375-db71-936e3e16b33e"
      },
      "execution_count": null,
      "outputs": [
        {
          "output_type": "stream",
          "name": "stdout",
          "text": [
            "294408 = (2^3) * 36801\n",
            "a =  208234\n",
            "a^q =  205541\n",
            "Values. n^q0 = 205541\n",
            "Test Fails. n^q2 = 294408\n"
          ]
        }
      ]
    },
    {
      "cell_type": "code",
      "source": [
        "\n",
        "\n",
        "def is_congruent_to_minus_one(a, n):\n",
        "  \"\"\"Checks if a is congruent to -1 modulo n.\n",
        "\n",
        "  Args:\n",
        "    a: The integer to check.\n",
        "    n: The modulus.\n",
        "\n",
        "  Returns:\n",
        "    True if a is congruent to -1 modulo n, False otherwise.\n",
        "  \"\"\"\n",
        "  return (a % n) == (n - 1)\n",
        "\n",
        "# Example usage:\n",
        "a = 10\n",
        "n = 11\n",
        "if is_congruent_to_minus_one(a, n):\n",
        "  print(f\"{a} is congruent to -1 modulo {n}\")\n",
        "else:\n",
        "  print(f\"{a} is not congruent to -1 modulo {n}\")\n"
      ],
      "metadata": {
        "id": "Kn5_z8IZZN7g"
      },
      "execution_count": null,
      "outputs": []
    }
  ]
}