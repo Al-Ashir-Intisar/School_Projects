{
  "nbformat": 4,
  "nbformat_minor": 0,
  "metadata": {
    "colab": {
      "provenance": [],
      "authorship_tag": "ABX9TyMVKaGbPUH0Di0HOCznGJTf"
    },
    "kernelspec": {
      "name": "python3",
      "display_name": "Python 3"
    },
    "language_info": {
      "name": "python"
    }
  },
  "cells": [
    {
      "cell_type": "code",
      "execution_count": 13,
      "metadata": {
        "colab": {
          "base_uri": "https://localhost:8080/"
        },
        "id": "61_mua-H3BL3",
        "outputId": "8f5bacec-2eff-4499-8284-dcf402084e76"
      },
      "outputs": [
        {
          "output_type": "stream",
          "name": "stdout",
          "text": [
            "Enter the Caesar cipher text: FcvjTreFcvjNzcc\n",
            "Shift 0: FCVJTREFCVJNZCC\n",
            "Shift 1: EBUISQDEBUIMYBB\n",
            "Shift 2: DATHRPCDATHLXAA\n",
            "Shift 3: CZSGQOBCZSGKWZZ\n",
            "Shift 4: BYRFPNABYRFJVYY\n",
            "Shift 5: AXQEOMZAXQEIUXX\n",
            "Shift 6: ZWPDNLYZWPDHTWW\n",
            "Shift 7: YVOCMKXYVOCGSVV\n",
            "Shift 8: XUNBLJWXUNBFRUU\n",
            "Shift 9: WTMAKIVWTMAEQTT\n",
            "Shift 10: VSLZJHUVSLZDPSS\n",
            "Shift 11: URKYIGTURKYCORR\n",
            "Shift 12: TQJXHFSTQJXBNQQ\n",
            "Shift 13: SPIWGERSPIWAMPP\n",
            "Shift 14: ROHVFDQROHVZLOO\n",
            "Shift 15: QNGUECPQNGUYKNN\n",
            "Shift 16: PMFTDBOPMFTXJMM\n",
            "Shift 17: OLESCANOLESWILL\n",
            "Shift 18: NKDRBZMNKDRVHKK\n",
            "Shift 19: MJCQAYLMJCQUGJJ\n",
            "Shift 20: LIBPZXKLIBPTFII\n",
            "Shift 21: KHAOYWJKHAOSEHH\n",
            "Shift 22: JGZNXVIJGZNRDGG\n",
            "Shift 23: IFYMWUHIFYMQCFF\n",
            "Shift 24: HEXLVTGHEXLPBEE\n",
            "Shift 25: GDWKUSFGDWKOADD\n"
          ]
        }
      ],
      "source": [
        "# code for all possible caeser shift\n",
        "\n",
        "def caesar_cipher_decrypt_all(text):\n",
        "    alphabet = 'ABCDEFGHIJKLMNOPQRSTUVWXYZ'\n",
        "    text = text.upper()\n",
        "\n",
        "    for shift in range(26):\n",
        "        decrypted_text = ''\n",
        "        for char in text:\n",
        "            if char in alphabet:\n",
        "                new_index = (alphabet.index(char) - shift) % 26\n",
        "                decrypted_text += alphabet[new_index]\n",
        "            else:\n",
        "                decrypted_text += char  # Keep non-alphabet characters unchanged\n",
        "        print(f\"Shift {shift}: {decrypted_text}\")\n",
        "\n",
        "# Example usage\n",
        "cipher_text = input(\"Enter the Caesar cipher text: \")\n",
        "caesar_cipher_decrypt_all(cipher_text)\n"
      ]
    },
    {
      "cell_type": "code",
      "source": [
        "# python implementation of euclidean algorithm for gcd(a,b)\n",
        "\n",
        "def euclidean_gcd(a, b):\n",
        "    # Ensure a >= b\n",
        "    if a < b:\n",
        "        a, b = b, a\n",
        "\n",
        "    print(f\"Finding GCD of {a} and {b} using the Euclidean Algorithm:\")\n",
        "    step = 1\n",
        "    while b != 0:\n",
        "        quotient = a // b\n",
        "        remainder = a % b\n",
        "        print(f\"Step {step}: {a} = {quotient} × {b} + {remainder}\")\n",
        "        a, b = b, remainder\n",
        "        step += 1\n",
        "\n",
        "    print(f\"GCD is {a}\")\n",
        "    return a\n",
        "\n",
        "# Example usage\n",
        "a = int(input(\"Enter first number: \"))\n",
        "b = int(input(\"Enter second number: \"))\n",
        "euclidean_gcd(a, b)\n"
      ],
      "metadata": {
        "colab": {
          "base_uri": "https://localhost:8080/"
        },
        "id": "FZee9u1g9Y8i",
        "outputId": "98000026-075d-4c21-88c2-18110b856f57"
      },
      "execution_count": 2,
      "outputs": [
        {
          "output_type": "stream",
          "name": "stdout",
          "text": [
            "Enter first number: 16261\n",
            "Enter second number: 85652\n",
            "Finding GCD of 85652 and 16261 using the Euclidean Algorithm:\n",
            "Step 1: 85652 = 5 × 16261 + 4347\n",
            "Step 2: 16261 = 3 × 4347 + 3220\n",
            "Step 3: 4347 = 1 × 3220 + 1127\n",
            "Step 4: 3220 = 2 × 1127 + 966\n",
            "Step 5: 1127 = 1 × 966 + 161\n",
            "Step 6: 966 = 6 × 161 + 0\n",
            "GCD is 161\n"
          ]
        },
        {
          "output_type": "execute_result",
          "data": {
            "text/plain": [
              "161"
            ]
          },
          "metadata": {},
          "execution_count": 2
        }
      ]
    },
    {
      "cell_type": "code",
      "source": [
        "def extended_euclidean_reverse(a, b):\n",
        "    # Ensure a >= b\n",
        "    if a < b:\n",
        "        a, b = b, a  # Swap to ensure a is the larger number\n",
        "\n",
        "    print(f\"Finding u and v such that {a}u + {b}v = gcd({a}, {b})\\n\")\n",
        "\n",
        "    # Step-by-step tracking\n",
        "    steps = []\n",
        "    old_r, r = a, b  # Remainders\n",
        "    old_u, u = 1, 0  # Coefficients for a\n",
        "    old_v, v = 0, 1  # Coefficients for b\n",
        "\n",
        "    while r != 0:\n",
        "        quotient = old_r // r\n",
        "        remainder = old_r - quotient * r\n",
        "        steps.append((old_r, quotient, r, remainder))  # Store step\n",
        "\n",
        "        # Update values\n",
        "        old_r, r = r, remainder\n",
        "        old_u, u = u, old_u - quotient * u\n",
        "        old_v, v = v, old_v - quotient * v\n",
        "\n",
        "    # Printing results in reverse order\n",
        "    print(\"Steps in reverse order:\\n\")\n",
        "    for step_num, (r1, q, r2, rem) in enumerate(reversed(steps), start=1):\n",
        "        print(f\"Step {step_num}: {rem} = {r1} - {q} × {r2}\")\n",
        "\n",
        "    print(\"\\nFinal result:\")\n",
        "    print(f\"GCD({a}, {b}) = {old_r}\")\n",
        "    print(f\"Coefficients: u = {old_u}, v = {old_v}\")\n",
        "\n",
        "    return old_r, old_u, old_v  # GCD, u, v\n",
        "\n",
        "# Example usage\n",
        "a = int(input(\"Enter first number: \"))\n",
        "b = int(input(\"Enter second number: \"))\n",
        "extended_euclidean_reverse(a, b)\n"
      ],
      "metadata": {
        "colab": {
          "base_uri": "https://localhost:8080/"
        },
        "id": "FQhvLHD6_U7D",
        "outputId": "588791f4-d147-412d-b411-bc127fbc8f64"
      },
      "execution_count": 11,
      "outputs": [
        {
          "output_type": "stream",
          "name": "stdout",
          "text": [
            "Enter first number: 16261\n",
            "Enter second number: 85652\n",
            "Finding u and v such that 85652u + 16261v = gcd(85652, 16261)\n",
            "\n",
            "Steps in reverse order:\n",
            "\n",
            "Step 1: 0 = 966 - 6 × 161\n",
            "Step 2: 161 = 1127 - 1 × 966\n",
            "Step 3: 966 = 3220 - 2 × 1127\n",
            "Step 4: 1127 = 4347 - 1 × 3220\n",
            "Step 5: 3220 = 16261 - 3 × 4347\n",
            "Step 6: 4347 = 85652 - 5 × 16261\n",
            "\n",
            "Final result:\n",
            "GCD(85652, 16261) = 161\n",
            "Coefficients: u = 15, v = -79\n"
          ]
        },
        {
          "output_type": "execute_result",
          "data": {
            "text/plain": [
              "(161, 15, -79)"
            ]
          },
          "metadata": {},
          "execution_count": 11
        }
      ]
    },
    {
      "cell_type": "code",
      "source": [
        "import math as mth\n",
        "mth.gcd(16261, 85652)"
      ],
      "metadata": {
        "colab": {
          "base_uri": "https://localhost:8080/"
        },
        "id": "C_hLHSso1PEA",
        "outputId": "0516d8de-df89-4879-a8d6-d3b873163b5e"
      },
      "execution_count": 3,
      "outputs": [
        {
          "output_type": "execute_result",
          "data": {
            "text/plain": [
              "161"
            ]
          },
          "metadata": {},
          "execution_count": 3
        }
      ]
    },
    {
      "cell_type": "code",
      "source": [
        "(15*85652) + (-79*16261)"
      ],
      "metadata": {
        "colab": {
          "base_uri": "https://localhost:8080/"
        },
        "id": "hhKuXAI51r3p",
        "outputId": "e780b87c-3637-4526-e564-dd58f8b57bae"
      },
      "execution_count": 12,
      "outputs": [
        {
          "output_type": "execute_result",
          "data": {
            "text/plain": [
              "161"
            ]
          },
          "metadata": {},
          "execution_count": 12
        }
      ]
    }
  ]
}